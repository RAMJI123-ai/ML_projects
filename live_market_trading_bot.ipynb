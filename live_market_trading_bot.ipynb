{
  "nbformat": 4,
  "nbformat_minor": 0,
  "metadata": {
    "colab": {
      "provenance": []
    },
    "kernelspec": {
      "name": "python3",
      "display_name": "Python 3"
    },
    "language_info": {
      "name": "python"
    }
  },
  "cells": [
    {
      "cell_type": "code",
      "source": [
        "!pip install ta"
      ],
      "metadata": {
        "colab": {
          "base_uri": "https://localhost:8080/"
        },
        "id": "Y8FXFminHrNZ",
        "outputId": "f05812bb-f5da-43a9-9101-8bb1572d7747"
      },
      "execution_count": 1,
      "outputs": [
        {
          "output_type": "stream",
          "name": "stdout",
          "text": [
            "Collecting ta\n",
            "  Downloading ta-0.11.0.tar.gz (25 kB)\n",
            "  Preparing metadata (setup.py) ... \u001b[?25l\u001b[?25hdone\n",
            "Requirement already satisfied: numpy in /usr/local/lib/python3.11/dist-packages (from ta) (2.0.2)\n",
            "Requirement already satisfied: pandas in /usr/local/lib/python3.11/dist-packages (from ta) (2.2.2)\n",
            "Requirement already satisfied: python-dateutil>=2.8.2 in /usr/local/lib/python3.11/dist-packages (from pandas->ta) (2.9.0.post0)\n",
            "Requirement already satisfied: pytz>=2020.1 in /usr/local/lib/python3.11/dist-packages (from pandas->ta) (2025.2)\n",
            "Requirement already satisfied: tzdata>=2022.7 in /usr/local/lib/python3.11/dist-packages (from pandas->ta) (2025.2)\n",
            "Requirement already satisfied: six>=1.5 in /usr/local/lib/python3.11/dist-packages (from python-dateutil>=2.8.2->pandas->ta) (1.17.0)\n",
            "Building wheels for collected packages: ta\n",
            "  Building wheel for ta (setup.py) ... \u001b[?25l\u001b[?25hdone\n",
            "  Created wheel for ta: filename=ta-0.11.0-py3-none-any.whl size=29412 sha256=e243803942739908b11b79169b902e182ead5538a159d5dcf0d240378a1fbdd2\n",
            "  Stored in directory: /root/.cache/pip/wheels/a1/d7/29/7781cc5eb9a3659d032d7d15bdd0f49d07d2b24fec29f44bc4\n",
            "Successfully built ta\n",
            "Installing collected packages: ta\n",
            "Successfully installed ta-0.11.0\n"
          ]
        }
      ]
    },
    {
      "cell_type": "code",
      "source": [
        "import yfinance as yf                   #For foreign market when user defines stock name\n",
        "import pandas as pd\n",
        "from textblob import TextBlob\n",
        "from datetime import datetime, timedelta\n",
        "\n",
        "def get_sentiment_score(news_headlines):\n",
        "    \"\"\"\n",
        "    Analyze sentiment of news headlines.\n",
        "    Returns average sentiment polarity.\n",
        "    \"\"\"\n",
        "    sentiment_scores = []\n",
        "    for headline in news_headlines:\n",
        "        sentiment = TextBlob(headline).sentiment.polarity\n",
        "        sentiment_scores.append(sentiment)\n",
        "    return sum(sentiment_scores) / len(sentiment_scores) if sentiment_scores else 0\n",
        "\n",
        "def fetch_stock_data(ticker):\n",
        "    \"\"\"\n",
        "    Fetch historical stock data using yfinance.\n",
        "    \"\"\"\n",
        "    end_date = datetime.now().strftime('%Y-%m-%d')\n",
        "    start_date = (datetime.now() - timedelta(days=30)).strftime('%Y-%m-%d')\n",
        "    data = yf.download(ticker, start=start_date, end=end_date)\n",
        "    data['SMA_20'] = data['Close'].rolling(window=20).mean()  # 20-day Simple Moving Average\n",
        "    data['RSI'] = 100 - (100 / (1 + (data['Close'] / data['Close'].shift(1)).mean()))\n",
        "    return data\n",
        "\n",
        "def predict_buy_sell(ticker, news_headlines):\n",
        "    \"\"\"\n",
        "    Predict Buy/Sell signals based on news sentiment and technical indicators.\n",
        "    \"\"\"\n",
        "    # Fetch stock data\n",
        "    stock_data = fetch_stock_data(ticker)\n",
        "    latest_price = stock_data['Close'].iloc[-1]\n",
        "    sma_20 = stock_data['SMA_20'].iloc[-1]\n",
        "    sentiment_score = get_sentiment_score(news_headlines)\n",
        "\n",
        "    # Decision Logic\n",
        "    if sentiment_score > 0.2 and latest_price > sma_20:\n",
        "        signal = \"BUY\"\n",
        "    elif sentiment_score < -0.2 and latest_price < sma_20:\n",
        "        signal = \"SELL\"\n",
        "    else:\n",
        "        signal = \"HOLD\"\n",
        "\n",
        "    return {\n",
        "        \"Stock\": ticker,\n",
        "        \"Price\": latest_price,\n",
        "        \"Signal\": signal,\n",
        "        \"Timestamp\": datetime.now().strftime('%Y-%m-%d %H:%M:%S')\n",
        "    }\n",
        "\n",
        "# Example Usage\n",
        "if __name__ == \"__main__\":\n",
        "    ticker = \"AAPL\"  # Example: Apple stock\n",
        "    news_headlines = [\n",
        "        \"Apple releases new revolutionary product\",\n",
        "        \"Mixed reviews on Apple's latest iPhone\",\n",
        "        \"Apple stock expected to rise after positive earnings report\"\n",
        "    ]\n",
        "    prediction = predict_buy_sell(ticker, news_headlines)\n",
        "    print(prediction)\n"
      ],
      "metadata": {
        "id": "bOS45Aa9HcqJ",
        "colab": {
          "base_uri": "https://localhost:8080/"
        },
        "outputId": "bf757342-42b2-42db-a6ad-a60aa0a12fc4"
      },
      "execution_count": 2,
      "outputs": [
        {
          "output_type": "stream",
          "name": "stdout",
          "text": [
            "YF.download() has changed argument auto_adjust default to True\n"
          ]
        },
        {
          "output_type": "stream",
          "name": "stderr",
          "text": [
            "\r[*********************100%***********************]  1 of 1 completed"
          ]
        },
        {
          "output_type": "stream",
          "name": "stdout",
          "text": [
            "{'Stock': 'AAPL', 'Price': Ticker\n",
            "AAPL    210.789993\n",
            "Name: 2025-05-12 00:00:00, dtype: float64, 'Signal': 'HOLD', 'Timestamp': '2025-05-13 05:20:59'}\n"
          ]
        },
        {
          "output_type": "stream",
          "name": "stderr",
          "text": [
            "\n"
          ]
        }
      ]
    },
    {
      "cell_type": "code",
      "source": [
        "import yfinance as yf                      #For foreign market when model fetches data itself\n",
        "import requests\n",
        "from textblob import TextBlob\n",
        "import pandas as pd\n",
        "from datetime import datetime, timedelta\n",
        "\n",
        "def fetch_market_data():\n",
        "    \"\"\"\n",
        "    Fetch a list of stocks from a specific market.\n",
        "    Example: Top 10 tech stocks.\n",
        "    \"\"\"\n",
        "    # Example: Fetch stock symbols (replace with real stock list source)\n",
        "    return [\"AAPL\", \"MSFT\", \"GOOGL\", \"AMZN\", \"TSLA\"]\n",
        "\n",
        "def fetch_news_data(stock):\n",
        "    \"\"\"\n",
        "    Fetch news headlines for a given stock.\n",
        "    Replace with a news API integration.\n",
        "    \"\"\"\n",
        "    # Example data (replace with real-world API like Bing News or Google News)\n",
        "    return [\n",
        "        f\"{stock} announces groundbreaking innovation\",\n",
        "        f\"{stock}'s market performance beats expectations\",\n",
        "        f\"Mixed reviews on {stock}'s latest product\"\n",
        "    ]\n",
        "\n",
        "def get_sentiment_score(news_headlines):\n",
        "    \"\"\"\n",
        "    Analyze sentiment of news headlines.\n",
        "    Returns average sentiment polarity.\n",
        "    \"\"\"\n",
        "    sentiment_scores = [TextBlob(headline).sentiment.polarity for headline in news_headlines]\n",
        "    return sum(sentiment_scores) / len(sentiment_scores) if sentiment_scores else 0\n",
        "\n",
        "def fetch_stock_data(ticker):\n",
        "    \"\"\"\n",
        "    Fetch historical stock data using yfinance.\n",
        "    \"\"\"\n",
        "    end_date = datetime.now().strftime('%Y-%m-%d')\n",
        "    start_date = (datetime.now() - timedelta(days=30)).strftime('%Y-%m-%d')\n",
        "    data = yf.download(ticker, start=start_date, end=end_date)\n",
        "    data['SMA_20'] = data['Close'].rolling(window=20).mean()  # 20-day SMA\n",
        "    return data\n",
        "\n",
        "def analyze_stock(ticker):\n",
        "    \"\"\"\n",
        "    Analyze stock using sentiment and technical indicators.\n",
        "    \"\"\"\n",
        "    # Fetch news and stock data\n",
        "    news_headlines = fetch_news_data(ticker)\n",
        "    sentiment_score = get_sentiment_score(news_headlines)\n",
        "    stock_data = fetch_stock_data(ticker)\n",
        "    latest_price = stock_data['Close'].iloc[-1]\n",
        "    sma_20 = stock_data['SMA_20'].iloc[-1]\n",
        "\n",
        "    # Determine buy/sell/hold signal\n",
        "    if sentiment_score > 0.2 and latest_price > sma_20:\n",
        "        signal = \"BUY\"\n",
        "    elif sentiment_score < -0.2 and latest_price < sma_20:\n",
        "        signal = \"SELL\"\n",
        "    else:\n",
        "        signal = \"HOLD\"\n",
        "\n",
        "    return {\n",
        "        \"Stock\": ticker,\n",
        "        \"Price\": latest_price,\n",
        "        \"Signal\": signal,\n",
        "        \"Timestamp\": datetime.now().strftime('%Y-%m-%d %H:%M:%S')\n",
        "    }\n",
        "\n",
        "def suggest_stocks():\n",
        "    \"\"\"\n",
        "    Suggest stocks based on sentiment and technical analysis.\n",
        "    \"\"\"\n",
        "    market_stocks = fetch_market_data()\n",
        "    suggestions = [analyze_stock(ticker) for ticker in market_stocks]\n",
        "    return suggestions\n",
        "\n",
        "# Run the model\n",
        "if __name__ == \"__main__\":\n",
        "    stock_suggestions = suggest_stocks()\n",
        "    for suggestion in stock_suggestions:\n",
        "        print(suggestion)\n"
      ],
      "metadata": {
        "colab": {
          "base_uri": "https://localhost:8080/"
        },
        "id": "jTfDjPhGWlEe",
        "outputId": "6f820488-1ac0-4c3f-e4e2-403a30c8215c"
      },
      "execution_count": null,
      "outputs": [
        {
          "output_type": "stream",
          "name": "stderr",
          "text": [
            "[*********************100%***********************]  1 of 1 completed\n",
            "[*********************100%***********************]  1 of 1 completed\n",
            "[*********************100%***********************]  1 of 1 completed\n",
            "[*********************100%***********************]  1 of 1 completed\n",
            "[*********************100%***********************]  1 of 1 completed"
          ]
        },
        {
          "output_type": "stream",
          "name": "stdout",
          "text": [
            "{'Stock': 'AAPL', 'Price': Ticker\n",
            "AAPL    196.979996\n",
            "Name: 2025-04-17 00:00:00, dtype: float64, 'Signal': 'HOLD', 'Timestamp': '2025-04-18 05:24:39'}\n",
            "{'Stock': 'MSFT', 'Price': Ticker\n",
            "MSFT    367.779999\n",
            "Name: 2025-04-17 00:00:00, dtype: float64, 'Signal': 'HOLD', 'Timestamp': '2025-04-18 05:24:39'}\n",
            "{'Stock': 'GOOGL', 'Price': Ticker\n",
            "GOOGL    151.160004\n",
            "Name: 2025-04-17 00:00:00, dtype: float64, 'Signal': 'HOLD', 'Timestamp': '2025-04-18 05:24:39'}\n",
            "{'Stock': 'AMZN', 'Price': Ticker\n",
            "AMZN    172.610001\n",
            "Name: 2025-04-17 00:00:00, dtype: float64, 'Signal': 'HOLD', 'Timestamp': '2025-04-18 05:24:39'}\n",
            "{'Stock': 'TSLA', 'Price': Ticker\n",
            "TSLA    241.369995\n",
            "Name: 2025-04-17 00:00:00, dtype: float64, 'Signal': 'HOLD', 'Timestamp': '2025-04-18 05:24:39'}\n"
          ]
        },
        {
          "output_type": "stream",
          "name": "stderr",
          "text": [
            "\n"
          ]
        }
      ]
    },
    {
      "cell_type": "code",
      "source": [
        "import yfinance as yf                       # For indian market when model fetches data itself\n",
        "from textblob import TextBlob\n",
        "import pandas as pd\n",
        "from datetime import datetime, timedelta\n",
        "import time\n",
        "\n",
        "def fetch_market_data():\n",
        "    \"\"\"\n",
        "    Fetch a list of Indian stocks (NSE tickers).\n",
        "    \"\"\"\n",
        "    return [\"RELIANCE.NS\", \"INFY.NS\", \"TCS.NS\", \"HDFCBANK.NS\", \"SBIN.NS\"]  # Example Indian stocks\n",
        "\n",
        "def fetch_news_data(stock):\n",
        "    \"\"\"\n",
        "    Fetch news headlines for a given stock.\n",
        "    Replace with a real news API (e.g., Google News or Financial APIs).\n",
        "    \"\"\"\n",
        "    return [\n",
        "        f\"{stock} sees positive market sentiment after new product launch\",\n",
        "        f\"Analysts predict growth for {stock} in the coming quarter\",\n",
        "        f\"Mixed reviews on {stock}'s latest financial results\"\n",
        "    ]  # Example static data; replace with real data later\n",
        "\n",
        "def get_sentiment_score(news_headlines):\n",
        "    \"\"\"\n",
        "    Analyze sentiment of news headlines.\n",
        "    Returns average sentiment polarity.\n",
        "    \"\"\"\n",
        "    sentiment_scores = [TextBlob(headline).sentiment.polarity for headline in news_headlines]\n",
        "    return sum(sentiment_scores) / len(sentiment_scores) if sentiment_scores else 0\n",
        "\n",
        "def fetch_stock_data(ticker):\n",
        "    \"\"\"\n",
        "    Fetch historical stock data for Indian stocks using yfinance.\n",
        "    \"\"\"\n",
        "    end_date = datetime.now().strftime('%Y-%m-%d')\n",
        "    start_date = (datetime.now() - timedelta(days=30)).strftime('%Y-%m-%d')\n",
        "    data = yf.download(ticker, start=start_date, end=end_date)\n",
        "    data['SMA_20'] = data['Close'].rolling(window=20).mean()  # 20-day SMA\n",
        "    return data\n",
        "\n",
        "def analyze_stock(ticker):\n",
        "    \"\"\"\n",
        "    Analyze stock using sentiment and technical indicators.\n",
        "    \"\"\"\n",
        "    news_headlines = fetch_news_data(ticker)\n",
        "    sentiment_score = get_sentiment_score(news_headlines)\n",
        "    stock_data = fetch_stock_data(ticker)\n",
        "    latest_price = stock_data['Close'].iloc[-1]\n",
        "    sma_20 = stock_data['SMA_20'].iloc[-1]\n",
        "\n",
        "    if sentiment_score > 0.2 and latest_price > sma_20:\n",
        "        signal = \"BUY\"\n",
        "    elif sentiment_score < -0.2 and latest_price < sma_20:\n",
        "        signal = \"SELL\"\n",
        "    else:\n",
        "        signal = \"HOLD\"\n",
        "\n",
        "    return {\n",
        "        \"Stock\": ticker,\n",
        "        \"Price\": latest_price,\n",
        "        \"Signal\": signal,\n",
        "        \"Timestamp\": datetime.now().strftime('%Y-%m-%d %H:%M:%S')\n",
        "    }\n",
        "\n",
        "def suggest_stocks():\n",
        "    \"\"\"\n",
        "    Suggest stocks based on sentiment and technical analysis.\n",
        "    \"\"\"\n",
        "    market_stocks = fetch_market_data()\n",
        "    suggestions = [analyze_stock(ticker) for ticker in market_stocks]\n",
        "    return suggestions\n",
        "\n",
        "def run_continuous_updates(interval=300):\n",
        "    \"\"\"\n",
        "    Run continuous updates at the specified interval (in seconds).\n",
        "    \"\"\"\n",
        "    try:\n",
        "        while True:\n",
        "            print(f\"Fetching stock suggestions at {datetime.now().strftime('%Y-%m-%d %H:%M:%S')}...\")\n",
        "            stock_suggestions = suggest_stocks()\n",
        "            for suggestion in stock_suggestions:\n",
        "                print(suggestion)\n",
        "            print(\"Waiting for the next update...\\n\")\n",
        "            time.sleep(interval)  # Wait for the specified interval\n",
        "    except KeyboardInterrupt:\n",
        "        print(\"Stopped continuous updates.\")\n",
        "\n",
        "# Run the program\n",
        "if __name__ == \"__main__\":\n",
        "    run_continuous_updates(interval=300)  # Update every 5 minutes\n"
      ],
      "metadata": {
        "colab": {
          "base_uri": "https://localhost:8080/"
        },
        "id": "pX85w8RdX-pP",
        "outputId": "1046bc04-2d03-4b60-894e-2e70c1a77503"
      },
      "execution_count": 3,
      "outputs": [
        {
          "output_type": "stream",
          "name": "stdout",
          "text": [
            "Fetching stock suggestions at 2025-05-13 05:21:36...\n"
          ]
        },
        {
          "output_type": "stream",
          "name": "stderr",
          "text": [
            "[*********************100%***********************]  1 of 1 completed\n",
            "[*********************100%***********************]  1 of 1 completed\n",
            "[*********************100%***********************]  1 of 1 completed\n",
            "[*********************100%***********************]  1 of 1 completed\n",
            "[*********************100%***********************]  1 of 1 completed\n"
          ]
        },
        {
          "output_type": "stream",
          "name": "stdout",
          "text": [
            "{'Stock': 'RELIANCE.NS', 'Price': Ticker\n",
            "RELIANCE.NS    1436.5\n",
            "Name: 2025-05-12 00:00:00, dtype: float64, 'Signal': 'HOLD', 'Timestamp': '2025-05-13 05:21:36'}\n",
            "{'Stock': 'INFY.NS', 'Price': Ticker\n",
            "INFY.NS    1626.900024\n",
            "Name: 2025-05-12 00:00:00, dtype: float64, 'Signal': 'HOLD', 'Timestamp': '2025-05-13 05:21:37'}\n",
            "{'Stock': 'TCS.NS', 'Price': Ticker\n",
            "TCS.NS    3620.399902\n",
            "Name: 2025-05-12 00:00:00, dtype: float64, 'Signal': 'HOLD', 'Timestamp': '2025-05-13 05:21:37'}\n",
            "{'Stock': 'HDFCBANK.NS', 'Price': Ticker\n",
            "HDFCBANK.NS    1957.199951\n",
            "Name: 2025-05-12 00:00:00, dtype: float64, 'Signal': 'HOLD', 'Timestamp': '2025-05-13 05:21:37'}\n",
            "{'Stock': 'SBIN.NS', 'Price': Ticker\n",
            "SBIN.NS    801.650024\n",
            "Name: 2025-05-12 00:00:00, dtype: float64, 'Signal': 'HOLD', 'Timestamp': '2025-05-13 05:21:38'}\n",
            "Waiting for the next update...\n",
            "\n",
            "Stopped continuous updates.\n"
          ]
        }
      ]
    },
    {
      "cell_type": "code",
      "source": [
        "import yfinance as yf                   # For indian market when model fetches data itself alongside sms alerts\n",
        "import requests\n",
        "from textblob import TextBlob\n",
        "import pandas as pd\n",
        "from datetime import datetime, timedelta\n",
        "import smtplib\n",
        "from email.mime.text import MIMEText\n",
        "import time\n",
        "\n",
        "def fetch_market_data():\n",
        "    \"\"\"\n",
        "    Fetch a list of Indian stocks (NSE tickers).\n",
        "    \"\"\"\n",
        "    return [\"RELIANCE.NS\", \"INFY.NS\", \"TCS.NS\", \"HDFCBANK.NS\", \"SBIN.NS\"]  # Example Indian stocks\n",
        "\n",
        "def fetch_live_news(stock):\n",
        "    \"\"\"\n",
        "    Fetch live news headlines for the given stock using NewsAPI.\n",
        "    Replace 'YOUR_API_KEY' with your NewsAPI key.\n",
        "    \"\"\"\n",
        "    api_key = \"YOUR_API_KEY\"  # Obtain your API key from https://newsapi.org/\n",
        "    url = f\"https://newsapi.org/v2/everything?q={stock}&language=en&apiKey={api_key}\"\n",
        "    response = requests.get(url)\n",
        "    data = response.json()\n",
        "\n",
        "    # Handle API response errors gracefully\n",
        "    if 'articles' not in data:\n",
        "        print(f\"Error fetching news for {stock}: {data.get('message', 'Unknown error')}\")\n",
        "        return []\n",
        "\n",
        "    headlines = [article['title'] for article in data['articles']]\n",
        "    return headlines\n",
        "\n",
        "def get_sentiment_score(news_headlines):\n",
        "    \"\"\"\n",
        "    Analyze sentiment of news headlines.\n",
        "    Returns average sentiment polarity.\n",
        "    \"\"\"\n",
        "    sentiment_scores = [TextBlob(headline).sentiment.polarity for headline in news_headlines]\n",
        "    return sum(sentiment_scores) / len(sentiment_scores) if sentiment_scores else 0\n",
        "\n",
        "def calculate_rsi(data, window=14):\n",
        "    \"\"\"\n",
        "    Calculate Relative Strength Index (RSI) for the stock.\n",
        "    \"\"\"\n",
        "    delta = data['Close'].diff()\n",
        "    gain = (delta.where(delta > 0, 0)).rolling(window=window).mean()\n",
        "    loss = (-delta.where(delta < 0, 0)).rolling(window=window).mean()\n",
        "    rs = gain / loss\n",
        "    rsi = 100 - (100 / (1 + rs))\n",
        "    data['RSI'] = rsi\n",
        "    return data\n",
        "\n",
        "def fetch_stock_data(ticker):\n",
        "    \"\"\"\n",
        "    Fetch historical stock data with technical indicators.\n",
        "    \"\"\"\n",
        "    end_date = datetime.now().strftime('%Y-%m-%d')\n",
        "    start_date = (datetime.now() - timedelta(days=30)).strftime('%Y-%m-%d')\n",
        "    data = yf.download(ticker, start=start_date, end=end_date)\n",
        "    data['SMA_20'] = data['Close'].rolling(window=20).mean()  # 20-day SMA\n",
        "    data = calculate_rsi(data)  # Compute RSI\n",
        "    return data\n",
        "\n",
        "def send_email_alert(stock, signal, price, timestamp):\n",
        "    \"\"\"\n",
        "    Send email alert for buy/sell signals.\n",
        "    \"\"\"\n",
        "    sender_email = \"your_email@example.com\"\n",
        "    receiver_email = \"recipient_email@example.com\"\n",
        "    password = \"YOUR_EMAIL_PASSWORD\"  # Replace with your email password or app password\n",
        "\n",
        "    subject = f\"Stock Alert: {stock} - {signal}\"\n",
        "    body = f\"The stock {stock} has triggered a {signal} signal at Rs. {price} on {timestamp}.\"\n",
        "    message = MIMEText(body)\n",
        "    message['Subject'] = subject\n",
        "    message['From'] = sender_email\n",
        "    message['To'] = receiver_email\n",
        "\n",
        "    with smtplib.SMTP_SSL(\"smtp.gmail.com\", 465) as server:\n",
        "        server.login(sender_email, password)\n",
        "        server.sendmail(sender_email, receiver_email, message.as_string())\n",
        "\n",
        "def analyze_stock(ticker):\n",
        "    \"\"\"\n",
        "    Analyze stock using sentiment and technical indicators.\n",
        "    \"\"\"\n",
        "    news_headlines = fetch_live_news(ticker.replace(\".NS\", \"\"))\n",
        "    sentiment_score = get_sentiment_score(news_headlines)\n",
        "    stock_data = fetch_stock_data(ticker)\n",
        "    latest_price = stock_data['Close'].iloc[-1]\n",
        "    sma_20 = stock_data['SMA_20'].iloc[-1]\n",
        "    rsi = stock_data['RSI'].iloc[-1]\n",
        "\n",
        "    if sentiment_score > 0.2 and latest_price > sma_20 and rsi < 70:\n",
        "        signal = \"BUY\"\n",
        "    elif sentiment_score < -0.2 and latest_price < sma_20 and rsi > 30:\n",
        "        signal = \"SELL\"\n",
        "    else:\n",
        "        signal = \"HOLD\"\n",
        "\n",
        "    # Send email alert for BUY/SELL signals\n",
        "    if signal in [\"BUY\", \"SELL\"]:\n",
        "        send_email_alert(ticker, signal, latest_price, datetime.now().strftime('%Y-%m-%d %H:%M:%S'))\n",
        "\n",
        "    return {\n",
        "        \"Stock\": ticker,\n",
        "        \"Price\": latest_price,\n",
        "        \"Signal\": signal,\n",
        "        \"Timestamp\": datetime.now().strftime('%Y-%m-%d %H:%M:%S'),\n",
        "        \"Sentiment Score\": sentiment_score,\n",
        "        \"RSI\": rsi\n",
        "    }\n",
        "\n",
        "def suggest_stocks():\n",
        "    \"\"\"\n",
        "    Suggest stocks based on sentiment and technical analysis.\n",
        "    \"\"\"\n",
        "    market_stocks = fetch_market_data()\n",
        "    suggestions = [analyze_stock(ticker) for ticker in market_stocks]\n",
        "    return suggestions\n",
        "\n",
        "def run_continuous_updates(interval=300):\n",
        "    \"\"\"\n",
        "    Run continuous updates at the specified interval (in seconds).\n",
        "    \"\"\"\n",
        "    try:\n",
        "        while True:\n",
        "            print(f\"Fetching stock suggestions at {datetime.now().strftime('%Y-%m-%d %H:%M:%S')}...\")\n",
        "            stock_suggestions = suggest_stocks()\n",
        "            for suggestion in stock_suggestions:\n",
        "                print(suggestion)\n",
        "            print(\"Waiting for the next update...\\n\")\n",
        "            time.sleep(interval)  # Wait for the specified interval\n",
        "    except KeyboardInterrupt:\n",
        "        print(\"Stopped continuous updates.\")\n",
        "\n",
        "# Run the program\n",
        "if __name__ == \"__main__\":\n",
        "    run_continuous_updates(interval=300)  # Update every 5 minutes\n"
      ],
      "metadata": {
        "colab": {
          "base_uri": "https://localhost:8080/"
        },
        "id": "6ek78PiwdydB",
        "outputId": "f6e2a140-8582-43cf-a1c1-f8df15e56d39"
      },
      "execution_count": null,
      "outputs": [
        {
          "output_type": "stream",
          "name": "stdout",
          "text": [
            "Fetching stock suggestions at 2025-04-22 05:42:34...\n",
            "Error fetching news for RELIANCE: Your API key is invalid or incorrect. Check your key, or go to https://newsapi.org to create a free API key.\n",
            "YF.download() has changed argument auto_adjust default to True\n"
          ]
        },
        {
          "output_type": "stream",
          "name": "stderr",
          "text": [
            "\r[*********************100%***********************]  1 of 1 completed\n"
          ]
        },
        {
          "output_type": "stream",
          "name": "stdout",
          "text": [
            "Error fetching news for INFY: Your API key is invalid or incorrect. Check your key, or go to https://newsapi.org to create a free API key.\n"
          ]
        },
        {
          "output_type": "stream",
          "name": "stderr",
          "text": [
            "\r[*********************100%***********************]  1 of 1 completed\n"
          ]
        },
        {
          "output_type": "stream",
          "name": "stdout",
          "text": [
            "Error fetching news for TCS: Your API key is invalid or incorrect. Check your key, or go to https://newsapi.org to create a free API key.\n"
          ]
        },
        {
          "output_type": "stream",
          "name": "stderr",
          "text": [
            "\r[*********************100%***********************]  1 of 1 completed\n"
          ]
        },
        {
          "output_type": "stream",
          "name": "stdout",
          "text": [
            "Error fetching news for HDFCBANK: Your API key is invalid or incorrect. Check your key, or go to https://newsapi.org to create a free API key.\n"
          ]
        },
        {
          "output_type": "stream",
          "name": "stderr",
          "text": [
            "\r[*********************100%***********************]  1 of 1 completed\n"
          ]
        },
        {
          "output_type": "stream",
          "name": "stdout",
          "text": [
            "Error fetching news for SBIN: Your API key is invalid or incorrect. Check your key, or go to https://newsapi.org to create a free API key.\n"
          ]
        },
        {
          "output_type": "stream",
          "name": "stderr",
          "text": [
            "\r[*********************100%***********************]  1 of 1 completed\n"
          ]
        },
        {
          "output_type": "stream",
          "name": "stdout",
          "text": [
            "{'Stock': 'RELIANCE.NS', 'Price': Ticker\n",
            "RELIANCE.NS    1295.5\n",
            "Name: 2025-04-21 00:00:00, dtype: float64, 'Signal': 'HOLD', 'Timestamp': '2025-04-22 05:42:35', 'Sentiment Score': 0, 'RSI': np.float64(54.50712081465884)}\n",
            "{'Stock': 'INFY.NS', 'Price': Ticker\n",
            "INFY.NS    1451.0\n",
            "Name: 2025-04-21 00:00:00, dtype: float64, 'Signal': 'HOLD', 'Timestamp': '2025-04-22 05:42:35', 'Sentiment Score': 0, 'RSI': np.float64(30.892034595086514)}\n",
            "{'Stock': 'TCS.NS', 'Price': Ticker\n",
            "TCS.NS    3321.600098\n",
            "Name: 2025-04-21 00:00:00, dtype: float64, 'Signal': 'HOLD', 'Timestamp': '2025-04-22 05:42:36', 'Sentiment Score': 0, 'RSI': np.float64(22.095906978478766)}\n",
            "{'Stock': 'HDFCBANK.NS', 'Price': Ticker\n",
            "HDFCBANK.NS    1927.099976\n",
            "Name: 2025-04-21 00:00:00, dtype: float64, 'Signal': 'HOLD', 'Timestamp': '2025-04-22 05:42:36', 'Sentiment Score': 0, 'RSI': np.float64(66.16599915727826)}\n",
            "{'Stock': 'SBIN.NS', 'Price': Ticker\n",
            "SBIN.NS    816.700012\n",
            "Name: 2025-04-21 00:00:00, dtype: float64, 'Signal': 'HOLD', 'Timestamp': '2025-04-22 05:42:37', 'Sentiment Score': 0, 'RSI': np.float64(65.34654802780247)}\n",
            "Waiting for the next update...\n",
            "\n"
          ]
        }
      ]
    }
  ]
}