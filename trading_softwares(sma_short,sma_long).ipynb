{
  "cells": [
    {
      "cell_type": "code",
      "execution_count": null,
      "metadata": {
        "colab": {
          "base_uri": "https://localhost:8080/"
        },
        "id": "WDKzQKeh6wIK",
        "outputId": "54cc0385-1b8d-4b22-9aa8-82e57979f656"
      },
      "outputs": [
        {
          "metadata": {
            "tags": null
          },
          "name": "stdout",
          "output_type": "stream",
          "text": [
            "🚀 Starting Intraday Bot for BSE.NS\n",
            "YF.download() has changed argument auto_adjust default to True\n"
          ]
        },
        {
          "metadata": {
            "tags": null
          },
          "name": "stderr",
          "output_type": "stream",
          "text": [
            "\r[*********************100%***********************]  1 of 1 completed\n"
          ]
        },
        {
          "metadata": {
            "tags": null
          },
          "name": "stdout",
          "output_type": "stream",
          "text": [
            "Price                       Close SMA_Short     SMA_Long Signal Position\n",
            "Ticker                     BSE.NS                                       \n",
            "Datetime                                                                \n",
            "2025-04-15 04:00:00+00:00  5839.5    5781.9  5682.480029      1      0.0\n",
            "2025-04-15 04:05:00+00:00  5853.0    5825.5  5692.797534      1      0.0\n",
            "2025-04-15 04:10:00+00:00  5883.0    5844.7  5705.390039      1      0.0\n",
            "2025-04-15 04:15:00+00:00  5888.5    5856.8  5717.967529      1      0.0\n",
            "2025-04-15 04:20:00+00:00  5867.5    5866.3  5729.592529      1      0.0\n",
            "2025-04-15 04:25:00+00:00  5866.5    5871.7  5741.072534      1      0.0\n",
            "2025-04-15 04:30:00+00:00  5867.0    5874.5  5752.530029      1      0.0\n",
            "2025-04-15 04:35:00+00:00  5870.5    5872.0  5762.857520      1      0.0\n",
            "2025-04-15 04:40:00+00:00  5878.0    5869.9  5773.405029      1      0.0\n",
            "2025-04-15 04:45:00+00:00  5891.5    5874.7  5784.087524      1      0.0\n",
            "🔍 No Trade Signal.\n",
            "⏳ Waiting for next 5-minute interval...\n",
            "\n"
          ]
        },
        {
          "metadata": {
            "tags": null
          },
          "name": "stderr",
          "output_type": "stream",
          "text": [
            "\r[*********************100%***********************]  1 of 1 completed\n"
          ]
        },
        {
          "metadata": {
            "tags": null
          },
          "name": "stdout",
          "output_type": "stream",
          "text": [
            "Price                       Close SMA_Short     SMA_Long Signal Position\n",
            "Ticker                     BSE.NS                                       \n",
            "Datetime                                                                \n",
            "2025-04-15 04:05:00+00:00  5853.0    5825.5  5692.797534      1      0.0\n",
            "2025-04-15 04:10:00+00:00  5883.0    5844.7  5705.390039      1      0.0\n",
            "2025-04-15 04:15:00+00:00  5888.5    5856.8  5717.967529      1      0.0\n",
            "2025-04-15 04:20:00+00:00  5867.5    5866.3  5729.592529      1      0.0\n",
            "2025-04-15 04:25:00+00:00  5866.5    5871.7  5741.072534      1      0.0\n",
            "2025-04-15 04:30:00+00:00  5867.0    5874.5  5752.530029      1      0.0\n",
            "2025-04-15 04:35:00+00:00  5870.5    5872.0  5762.857520      1      0.0\n",
            "2025-04-15 04:40:00+00:00  5878.0    5869.9  5773.405029      1      0.0\n",
            "2025-04-15 04:45:00+00:00  5886.5    5873.7  5783.837524      1      0.0\n",
            "2025-04-15 04:50:00+00:00  5879.5    5876.3  5794.730029      1      0.0\n",
            "🔍 No Trade Signal.\n",
            "⏳ Waiting for next 5-minute interval...\n",
            "\n"
          ]
        },
        {
          "metadata": {
            "tags": null
          },
          "name": "stderr",
          "output_type": "stream",
          "text": [
            "\r[*********************100%***********************]  1 of 1 completed\n"
          ]
        },
        {
          "metadata": {
            "tags": null
          },
          "name": "stdout",
          "output_type": "stream",
          "text": [
            "Price                       Close SMA_Short     SMA_Long Signal Position\n",
            "Ticker                     BSE.NS                                       \n",
            "Datetime                                                                \n",
            "2025-04-15 04:10:00+00:00  5883.0    5844.7  5705.390039      1      0.0\n",
            "2025-04-15 04:15:00+00:00  5888.5    5856.8  5717.967529      1      0.0\n",
            "2025-04-15 04:20:00+00:00  5867.5    5866.3  5729.592529      1      0.0\n",
            "2025-04-15 04:25:00+00:00  5866.5    5871.7  5741.072534      1      0.0\n",
            "2025-04-15 04:30:00+00:00  5867.0    5874.5  5752.530029      1      0.0\n",
            "2025-04-15 04:35:00+00:00  5870.5    5872.0  5762.857520      1      0.0\n",
            "2025-04-15 04:40:00+00:00  5878.0    5869.9  5773.405029      1      0.0\n",
            "2025-04-15 04:45:00+00:00  5886.5    5873.7  5783.837524      1      0.0\n",
            "2025-04-15 04:50:00+00:00  5875.5    5875.5  5794.530029      1      0.0\n",
            "2025-04-15 04:55:00+00:00  5885.0    5879.1  5805.782520      1      0.0\n",
            "🔍 No Trade Signal.\n",
            "⏳ Waiting for next 5-minute interval...\n",
            "\n"
          ]
        },
        {
          "metadata": {
            "tags": null
          },
          "name": "stderr",
          "output_type": "stream",
          "text": [
            "\r[*********************100%***********************]  1 of 1 completed\n"
          ]
        },
        {
          "metadata": {
            "tags": null
          },
          "name": "stdout",
          "output_type": "stream",
          "text": [
            "Price                       Close SMA_Short     SMA_Long Signal Position\n",
            "Ticker                     BSE.NS                                       \n",
            "Datetime                                                                \n",
            "2025-04-15 04:15:00+00:00  5888.5    5856.8  5717.967529      1      0.0\n",
            "2025-04-15 04:20:00+00:00  5867.5    5866.3  5729.592529      1      0.0\n",
            "2025-04-15 04:25:00+00:00  5866.5    5871.7  5741.072534      1      0.0\n",
            "2025-04-15 04:30:00+00:00  5867.0    5874.5  5752.530029      1      0.0\n",
            "2025-04-15 04:35:00+00:00  5870.5    5872.0  5762.857520      1      0.0\n",
            "2025-04-15 04:40:00+00:00  5878.0    5869.9  5773.405029      1      0.0\n",
            "2025-04-15 04:45:00+00:00  5886.5    5873.7  5783.837524      1      0.0\n",
            "2025-04-15 04:50:00+00:00  5875.5    5875.5  5794.530029      1      0.0\n",
            "2025-04-15 04:55:00+00:00  5884.5    5879.0  5805.757520      1      0.0\n",
            "2025-04-15 05:00:00+00:00  5890.0    5882.9  5817.402515      1      0.0\n",
            "🔍 No Trade Signal.\n",
            "⏳ Waiting for next 5-minute interval...\n",
            "\n"
          ]
        },
        {
          "metadata": {
            "tags": null
          },
          "name": "stderr",
          "output_type": "stream",
          "text": [
            "\r[*********************100%***********************]  1 of 1 completed\n"
          ]
        },
        {
          "metadata": {
            "tags": null
          },
          "name": "stdout",
          "output_type": "stream",
          "text": [
            "Price                       Close SMA_Short     SMA_Long Signal Position\n",
            "Ticker                     BSE.NS                                       \n",
            "Datetime                                                                \n",
            "2025-04-15 04:20:00+00:00  5867.5    5866.3  5729.592529      1      0.0\n",
            "2025-04-15 04:25:00+00:00  5866.5    5871.7  5741.072534      1      0.0\n",
            "2025-04-15 04:30:00+00:00  5867.0    5874.5  5752.530029      1      0.0\n",
            "2025-04-15 04:35:00+00:00  5870.5    5872.0  5762.857520      1      0.0\n",
            "2025-04-15 04:40:00+00:00  5878.0    5869.9  5773.405029      1      0.0\n",
            "2025-04-15 04:45:00+00:00  5886.5    5873.7  5783.837524      1      0.0\n",
            "2025-04-15 04:50:00+00:00  5875.5    5875.5  5794.530029      1      0.0\n",
            "2025-04-15 04:55:00+00:00  5884.5    5879.0  5805.757520      1      0.0\n",
            "2025-04-15 05:00:00+00:00  5890.5    5883.0  5817.427515      1      0.0\n",
            "2025-04-15 05:05:00+00:00  5924.0    5892.2  5831.172510      1      0.0\n",
            "🔍 No Trade Signal.\n",
            "⏳ Waiting for next 5-minute interval...\n",
            "\n"
          ]
        },
        {
          "metadata": {
            "tags": null
          },
          "name": "stderr",
          "output_type": "stream",
          "text": [
            "\r[*********************100%***********************]  1 of 1 completed\n"
          ]
        },
        {
          "metadata": {
            "tags": null
          },
          "name": "stdout",
          "output_type": "stream",
          "text": [
            "Price                       Close SMA_Short     SMA_Long Signal Position\n",
            "Ticker                     BSE.NS                                       \n",
            "Datetime                                                                \n",
            "2025-04-15 04:25:00+00:00  5866.5    5871.7  5741.072534      1      0.0\n",
            "2025-04-15 04:30:00+00:00  5867.0    5874.5  5752.530029      1      0.0\n",
            "2025-04-15 04:35:00+00:00  5870.5    5872.0  5762.857520      1      0.0\n",
            "2025-04-15 04:40:00+00:00  5878.0    5869.9  5773.405029      1      0.0\n",
            "2025-04-15 04:45:00+00:00  5886.5    5873.7  5783.837524      1      0.0\n",
            "2025-04-15 04:50:00+00:00  5875.5    5875.5  5794.530029      1      0.0\n",
            "2025-04-15 04:55:00+00:00  5884.5    5879.0  5805.757520      1      0.0\n",
            "2025-04-15 05:00:00+00:00  5890.5    5883.0  5817.427515      1      0.0\n",
            "2025-04-15 05:05:00+00:00  5921.0    5891.6  5831.022510      1      0.0\n",
            "2025-04-15 05:10:00+00:00  5906.5    5895.6  5844.550000      1      0.0\n",
            "🔍 No Trade Signal.\n",
            "⏳ Waiting for next 5-minute interval...\n",
            "\n"
          ]
        },
        {
          "metadata": {
            "tags": null
          },
          "name": "stderr",
          "output_type": "stream",
          "text": [
            "\r[*********************100%***********************]  1 of 1 completed\n"
          ]
        },
        {
          "metadata": {
            "tags": null
          },
          "name": "stdout",
          "output_type": "stream",
          "text": [
            "Price                       Close SMA_Short     SMA_Long Signal Position\n",
            "Ticker                     BSE.NS                                       \n",
            "Datetime                                                                \n",
            "2025-04-15 04:30:00+00:00  5867.0    5874.5  5752.530029      1      0.0\n",
            "2025-04-15 04:35:00+00:00  5870.5    5872.0  5762.857520      1      0.0\n",
            "2025-04-15 04:40:00+00:00  5878.0    5869.9  5773.405029      1      0.0\n",
            "2025-04-15 04:45:00+00:00  5886.5    5873.7  5783.837524      1      0.0\n",
            "2025-04-15 04:50:00+00:00  5875.5    5875.5  5794.530029      1      0.0\n",
            "2025-04-15 04:55:00+00:00  5884.5    5879.0  5805.757520      1      0.0\n",
            "2025-04-15 05:00:00+00:00  5890.5    5883.0  5817.427515      1      0.0\n",
            "2025-04-15 05:05:00+00:00  5921.0    5891.6  5831.022510      1      0.0\n",
            "2025-04-15 05:10:00+00:00  5921.5    5898.6  5845.300000      1      0.0\n",
            "2025-04-15 05:15:00+00:00  5922.0    5907.9  5859.250000      1      0.0\n",
            "🔍 No Trade Signal.\n",
            "⏳ Waiting for next 5-minute interval...\n",
            "\n"
          ]
        },
        {
          "metadata": {
            "tags": null
          },
          "name": "stderr",
          "output_type": "stream",
          "text": [
            "\r[*********************100%***********************]  1 of 1 completed\n"
          ]
        },
        {
          "metadata": {
            "tags": null
          },
          "name": "stdout",
          "output_type": "stream",
          "text": [
            "Price                       Close SMA_Short     SMA_Long Signal Position\n",
            "Ticker                     BSE.NS                                       \n",
            "Datetime                                                                \n",
            "2025-04-15 04:35:00+00:00  5870.5    5872.0  5762.857520      1      0.0\n",
            "2025-04-15 04:40:00+00:00  5878.0    5869.9  5773.405029      1      0.0\n",
            "2025-04-15 04:45:00+00:00  5886.5    5873.7  5783.837524      1      0.0\n",
            "2025-04-15 04:50:00+00:00  5875.5    5875.5  5794.530029      1      0.0\n",
            "2025-04-15 04:55:00+00:00  5884.5    5879.0  5805.757520      1      0.0\n",
            "2025-04-15 05:00:00+00:00  5890.5    5883.0  5817.427515      1      0.0\n",
            "2025-04-15 05:05:00+00:00  5921.0    5891.6  5831.022510      1      0.0\n",
            "2025-04-15 05:10:00+00:00  5921.5    5898.6  5845.300000      1      0.0\n",
            "2025-04-15 05:15:00+00:00  5938.5    5911.2  5860.075000      1      0.0\n",
            "2025-04-15 05:20:00+00:00  5946.0    5923.5  5875.625000      1      0.0\n",
            "🔍 No Trade Signal.\n",
            "⏳ Waiting for next 5-minute interval...\n",
            "\n"
          ]
        },
        {
          "metadata": {
            "tags": null
          },
          "name": "stderr",
          "output_type": "stream",
          "text": [
            "\r[*********************100%***********************]  1 of 1 completed\n"
          ]
        },
        {
          "metadata": {
            "tags": null
          },
          "name": "stdout",
          "output_type": "stream",
          "text": [
            "Price                       Close SMA_Short     SMA_Long Signal Position\n",
            "Ticker                     BSE.NS                                       \n",
            "Datetime                                                                \n",
            "2025-04-15 04:40:00+00:00  5878.0    5869.9  5773.405029      1      0.0\n",
            "2025-04-15 04:45:00+00:00  5886.5    5873.7  5783.837524      1      0.0\n",
            "2025-04-15 04:50:00+00:00  5875.5    5875.5  5794.530029      1      0.0\n",
            "2025-04-15 04:55:00+00:00  5884.5    5879.0  5805.757520      1      0.0\n",
            "2025-04-15 05:00:00+00:00  5890.5    5883.0  5817.427515      1      0.0\n",
            "2025-04-15 05:05:00+00:00  5921.0    5891.6  5831.022510      1      0.0\n",
            "2025-04-15 05:10:00+00:00  5921.5    5898.6  5845.300000      1      0.0\n",
            "2025-04-15 05:15:00+00:00  5938.5    5911.2  5860.075000      1      0.0\n",
            "2025-04-15 05:20:00+00:00  5934.5    5921.2  5875.050000      1      0.0\n",
            "2025-04-15 05:25:00+00:00  5926.5    5928.4  5882.025000      1      0.0\n",
            "🔍 No Trade Signal.\n",
            "⏳ Waiting for next 5-minute interval...\n",
            "\n"
          ]
        },
        {
          "metadata": {
            "tags": null
          },
          "name": "stderr",
          "output_type": "stream",
          "text": [
            "\r[*********************100%***********************]  1 of 1 completed\n"
          ]
        },
        {
          "metadata": {
            "tags": null
          },
          "name": "stdout",
          "output_type": "stream",
          "text": [
            "Price                       Close SMA_Short     SMA_Long Signal Position\n",
            "Ticker                     BSE.NS                                       \n",
            "Datetime                                                                \n",
            "2025-04-15 04:45:00+00:00  5886.5    5873.7  5783.837524      1      0.0\n",
            "2025-04-15 04:50:00+00:00  5875.5    5875.5  5794.530029      1      0.0\n",
            "2025-04-15 04:55:00+00:00  5884.5    5879.0  5805.757520      1      0.0\n",
            "2025-04-15 05:00:00+00:00  5890.5    5883.0  5817.427515      1      0.0\n",
            "2025-04-15 05:05:00+00:00  5921.0    5891.6  5831.022510      1      0.0\n",
            "2025-04-15 05:10:00+00:00  5921.5    5898.6  5845.300000      1      0.0\n",
            "2025-04-15 05:15:00+00:00  5938.5    5911.2  5860.075000      1      0.0\n",
            "2025-04-15 05:20:00+00:00  5934.5    5921.2  5875.050000      1      0.0\n",
            "2025-04-15 05:25:00+00:00  5929.5    5929.0  5882.175000      1      0.0\n",
            "2025-04-15 05:30:00+00:00  5923.0    5929.4  5886.925000      1      0.0\n",
            "🔍 No Trade Signal.\n",
            "⏳ Waiting for next 5-minute interval...\n",
            "\n"
          ]
        },
        {
          "metadata": {
            "tags": null
          },
          "name": "stderr",
          "output_type": "stream",
          "text": [
            "\r[*********************100%***********************]  1 of 1 completed\n"
          ]
        },
        {
          "metadata": {
            "tags": null
          },
          "name": "stdout",
          "output_type": "stream",
          "text": [
            "Price                       Close SMA_Short     SMA_Long Signal Position\n",
            "Ticker                     BSE.NS                                       \n",
            "Datetime                                                                \n",
            "2025-04-15 04:50:00+00:00  5875.5    5875.5  5794.530029      1      0.0\n",
            "2025-04-15 04:55:00+00:00  5884.5    5879.0  5805.757520      1      0.0\n",
            "2025-04-15 05:00:00+00:00  5890.5    5883.0  5817.427515      1      0.0\n",
            "2025-04-15 05:05:00+00:00  5921.0    5891.6  5831.022510      1      0.0\n",
            "2025-04-15 05:10:00+00:00  5921.5    5898.6  5845.300000      1      0.0\n",
            "2025-04-15 05:15:00+00:00  5938.5    5911.2  5860.075000      1      0.0\n",
            "2025-04-15 05:20:00+00:00  5934.5    5921.2  5875.050000      1      0.0\n",
            "2025-04-15 05:25:00+00:00  5929.5    5929.0  5882.175000      1      0.0\n",
            "2025-04-15 05:30:00+00:00  5932.0    5931.2  5887.375000      1      0.0\n",
            "2025-04-15 05:35:00+00:00  5925.0    5931.9  5892.625000      1      0.0\n",
            "🔍 No Trade Signal.\n",
            "⏳ Waiting for next 5-minute interval...\n",
            "\n"
          ]
        },
        {
          "metadata": {
            "tags": null
          },
          "name": "stderr",
          "output_type": "stream",
          "text": [
            "\r[*********************100%***********************]  1 of 1 completed\n"
          ]
        },
        {
          "metadata": {
            "tags": null
          },
          "name": "stdout",
          "output_type": "stream",
          "text": [
            "Price                       Close SMA_Short     SMA_Long Signal Position\n",
            "Ticker                     BSE.NS                                       \n",
            "Datetime                                                                \n",
            "2025-04-15 04:55:00+00:00  5884.5    5879.0  5805.757520      1      0.0\n",
            "2025-04-15 05:00:00+00:00  5890.5    5883.0  5817.427515      1      0.0\n",
            "2025-04-15 05:05:00+00:00  5921.0    5891.6  5831.022510      1      0.0\n",
            "2025-04-15 05:10:00+00:00  5921.5    5898.6  5845.300000      1      0.0\n",
            "2025-04-15 05:15:00+00:00  5938.5    5911.2  5860.075000      1      0.0\n",
            "2025-04-15 05:20:00+00:00  5934.5    5921.2  5875.050000      1      0.0\n",
            "2025-04-15 05:25:00+00:00  5929.5    5929.0  5882.175000      1      0.0\n",
            "2025-04-15 05:30:00+00:00  5932.0    5931.2  5887.375000      1      0.0\n",
            "2025-04-15 05:35:00+00:00  5916.5    5930.2  5892.200000      1      0.0\n",
            "2025-04-15 05:40:00+00:00  5918.0    5926.1  5896.125000      1      0.0\n",
            "🔍 No Trade Signal.\n",
            "⏳ Waiting for next 5-minute interval...\n",
            "\n"
          ]
        },
        {
          "output_type": "stream",
          "name": "stderr",
          "text": [
            "\r[*********************100%***********************]  1 of 1 completed\n"
          ]
        },
        {
          "output_type": "stream",
          "name": "stdout",
          "text": [
            "Price                       Close SMA_Short     SMA_Long Signal Position\n",
            "Ticker                     BSE.NS                                       \n",
            "Datetime                                                                \n",
            "2025-04-15 05:00:00+00:00  5890.5    5883.0  5817.427515      1      0.0\n",
            "2025-04-15 05:05:00+00:00  5921.0    5891.6  5831.022510      1      0.0\n",
            "2025-04-15 05:10:00+00:00  5921.5    5898.6  5845.300000      1      0.0\n",
            "2025-04-15 05:15:00+00:00  5938.5    5911.2  5860.075000      1      0.0\n",
            "2025-04-15 05:20:00+00:00  5934.5    5921.2  5875.050000      1      0.0\n",
            "2025-04-15 05:25:00+00:00  5929.5    5929.0  5882.175000      1      0.0\n",
            "2025-04-15 05:30:00+00:00  5932.0    5931.2  5887.375000      1      0.0\n",
            "2025-04-15 05:35:00+00:00  5916.5    5930.2  5892.200000      1      0.0\n",
            "2025-04-15 05:40:00+00:00  5910.5    5924.6  5895.750000      1      0.0\n",
            "2025-04-15 05:45:00+00:00  5915.0    5920.7  5898.850000      1      0.0\n",
            "🔍 No Trade Signal.\n",
            "⏳ Waiting for next 5-minute interval...\n",
            "\n"
          ]
        },
        {
          "output_type": "stream",
          "name": "stderr",
          "text": [
            "\r[*********************100%***********************]  1 of 1 completed\n"
          ]
        },
        {
          "output_type": "stream",
          "name": "stdout",
          "text": [
            "Price                       Close SMA_Short    SMA_Long Signal Position\n",
            "Ticker                     BSE.NS                                      \n",
            "Datetime                                                               \n",
            "2025-04-15 05:05:00+00:00  5921.0    5891.6  5831.02251      1      0.0\n",
            "2025-04-15 05:10:00+00:00  5921.5    5898.6  5845.30000      1      0.0\n",
            "2025-04-15 05:15:00+00:00  5938.5    5911.2  5860.07500      1      0.0\n",
            "2025-04-15 05:20:00+00:00  5934.5    5921.2  5875.05000      1      0.0\n",
            "2025-04-15 05:25:00+00:00  5929.5    5929.0  5882.17500      1      0.0\n",
            "2025-04-15 05:30:00+00:00  5932.0    5931.2  5887.37500      1      0.0\n",
            "2025-04-15 05:35:00+00:00  5916.5    5930.2  5892.20000      1      0.0\n",
            "2025-04-15 05:40:00+00:00  5910.5    5924.6  5895.75000      1      0.0\n",
            "2025-04-15 05:45:00+00:00  5921.0    5921.9  5899.15000      1      0.0\n",
            "2025-04-15 05:50:00+00:00  5921.0    5920.2  5901.05000      1      0.0\n",
            "🔍 No Trade Signal.\n",
            "⏳ Waiting for next 5-minute interval...\n",
            "\n"
          ]
        },
        {
          "output_type": "stream",
          "name": "stderr",
          "text": [
            "\r[*********************100%***********************]  1 of 1 completed\n"
          ]
        },
        {
          "output_type": "stream",
          "name": "stdout",
          "text": [
            "Price                       Close SMA_Short  SMA_Long Signal Position\n",
            "Ticker                     BSE.NS                                    \n",
            "Datetime                                                             \n",
            "2025-04-15 05:10:00+00:00  5921.5    5898.6  5845.300      1      0.0\n",
            "2025-04-15 05:15:00+00:00  5938.5    5911.2  5860.075      1      0.0\n",
            "2025-04-15 05:20:00+00:00  5934.5    5921.2  5875.050      1      0.0\n",
            "2025-04-15 05:25:00+00:00  5929.5    5929.0  5882.175      1      0.0\n",
            "2025-04-15 05:30:00+00:00  5932.0    5931.2  5887.375      1      0.0\n",
            "2025-04-15 05:35:00+00:00  5916.5    5930.2  5892.200      1      0.0\n",
            "2025-04-15 05:40:00+00:00  5910.5    5924.6  5895.750      1      0.0\n",
            "2025-04-15 05:45:00+00:00  5921.0    5921.9  5899.150      1      0.0\n",
            "2025-04-15 05:50:00+00:00  5923.0    5920.6  5901.150      1      0.0\n",
            "2025-04-15 05:55:00+00:00  5926.0    5919.4  5903.025      1      0.0\n",
            "🔍 No Trade Signal.\n",
            "⏳ Waiting for next 5-minute interval...\n",
            "\n"
          ]
        },
        {
          "output_type": "stream",
          "name": "stderr",
          "text": [
            "\r[*********************100%***********************]  1 of 1 completed\n"
          ]
        },
        {
          "output_type": "stream",
          "name": "stdout",
          "text": [
            "Price                       Close SMA_Short  SMA_Long Signal Position\n",
            "Ticker                     BSE.NS                                    \n",
            "Datetime                                                             \n",
            "2025-04-15 05:15:00+00:00  5938.5    5911.2  5860.075      1      0.0\n",
            "2025-04-15 05:20:00+00:00  5934.5    5921.2  5875.050      1      0.0\n",
            "2025-04-15 05:25:00+00:00  5929.5    5929.0  5882.175      1      0.0\n",
            "2025-04-15 05:30:00+00:00  5932.0    5931.2  5887.375      1      0.0\n",
            "2025-04-15 05:35:00+00:00  5916.5    5930.2  5892.200      1      0.0\n",
            "2025-04-15 05:40:00+00:00  5910.5    5924.6  5895.750      1      0.0\n",
            "2025-04-15 05:45:00+00:00  5921.0    5921.9  5899.150      1      0.0\n",
            "2025-04-15 05:50:00+00:00  5923.0    5920.6  5901.150      1      0.0\n",
            "2025-04-15 05:55:00+00:00  5934.0    5921.0  5903.425      1      0.0\n",
            "2025-04-15 06:00:00+00:00  5928.0    5923.3  5906.450      1      0.0\n",
            "🔍 No Trade Signal.\n",
            "⏳ Waiting for next 5-minute interval...\n",
            "\n"
          ]
        },
        {
          "output_type": "stream",
          "name": "stderr",
          "text": [
            "\r[*********************100%***********************]  1 of 1 completed\n"
          ]
        },
        {
          "output_type": "stream",
          "name": "stdout",
          "text": [
            "Price                       Close SMA_Short  SMA_Long Signal Position\n",
            "Ticker                     BSE.NS                                    \n",
            "Datetime                                                             \n",
            "2025-04-15 05:20:00+00:00  5934.5    5921.2  5875.050      1      0.0\n",
            "2025-04-15 05:25:00+00:00  5929.5    5929.0  5882.175      1      0.0\n",
            "2025-04-15 05:30:00+00:00  5932.0    5931.2  5887.375      1      0.0\n",
            "2025-04-15 05:35:00+00:00  5916.5    5930.2  5892.200      1      0.0\n",
            "2025-04-15 05:40:00+00:00  5910.5    5924.6  5895.750      1      0.0\n",
            "2025-04-15 05:45:00+00:00  5921.0    5921.9  5899.150      1      0.0\n",
            "2025-04-15 05:50:00+00:00  5923.0    5920.6  5901.150      1      0.0\n",
            "2025-04-15 05:55:00+00:00  5934.0    5921.0  5903.425      1      0.0\n",
            "2025-04-15 06:00:00+00:00  5928.0    5923.3  5906.450      1      0.0\n",
            "2025-04-15 06:05:00+00:00  5918.0    5924.8  5909.025      1      0.0\n",
            "🔍 No Trade Signal.\n",
            "⏳ Waiting for next 5-minute interval...\n",
            "\n"
          ]
        },
        {
          "output_type": "stream",
          "name": "stderr",
          "text": [
            "\r[*********************100%***********************]  1 of 1 completed\n"
          ]
        },
        {
          "output_type": "stream",
          "name": "stdout",
          "text": [
            "Price                       Close SMA_Short  SMA_Long Signal Position\n",
            "Ticker                     BSE.NS                                    \n",
            "Datetime                                                             \n",
            "2025-04-15 05:25:00+00:00  5929.5    5929.0  5882.175      1      0.0\n",
            "2025-04-15 05:30:00+00:00  5932.0    5931.2  5887.375      1      0.0\n",
            "2025-04-15 05:35:00+00:00  5916.5    5930.2  5892.200      1      0.0\n",
            "2025-04-15 05:40:00+00:00  5910.5    5924.6  5895.750      1      0.0\n",
            "2025-04-15 05:45:00+00:00  5921.0    5921.9  5899.150      1      0.0\n",
            "2025-04-15 05:50:00+00:00  5923.0    5920.6  5901.150      1      0.0\n",
            "2025-04-15 05:55:00+00:00  5934.0    5921.0  5903.425      1      0.0\n",
            "2025-04-15 06:00:00+00:00  5928.0    5923.3  5906.450      1      0.0\n",
            "2025-04-15 06:05:00+00:00  5917.5    5924.7  5909.000      1      0.0\n",
            "2025-04-15 06:10:00+00:00  5917.5    5924.0  5911.525      1      0.0\n",
            "🔍 No Trade Signal.\n",
            "⏳ Waiting for next 5-minute interval...\n",
            "\n"
          ]
        },
        {
          "output_type": "stream",
          "name": "stderr",
          "text": [
            "\r[*********************100%***********************]  1 of 1 completed\n"
          ]
        },
        {
          "output_type": "stream",
          "name": "stdout",
          "text": [
            "Price                       Close SMA_Short  SMA_Long Signal Position\n",
            "Ticker                     BSE.NS                                    \n",
            "Datetime                                                             \n",
            "2025-04-15 05:30:00+00:00  5932.0    5931.2  5887.375      1      0.0\n",
            "2025-04-15 05:35:00+00:00  5916.5    5930.2  5892.200      1      0.0\n",
            "2025-04-15 05:40:00+00:00  5910.5    5924.6  5895.750      1      0.0\n",
            "2025-04-15 05:45:00+00:00  5921.0    5921.9  5899.150      1      0.0\n",
            "2025-04-15 05:50:00+00:00  5923.0    5920.6  5901.150      1      0.0\n",
            "2025-04-15 05:55:00+00:00  5934.0    5921.0  5903.425      1      0.0\n",
            "2025-04-15 06:00:00+00:00  5928.0    5923.3  5906.450      1      0.0\n",
            "2025-04-15 06:05:00+00:00  5917.5    5924.7  5909.000      1      0.0\n",
            "2025-04-15 06:10:00+00:00  5918.0    5924.1  5911.550      1      0.0\n",
            "2025-04-15 06:15:00+00:00  5910.0    5921.5  5913.525      1      0.0\n",
            "🔍 No Trade Signal.\n",
            "⏳ Waiting for next 5-minute interval...\n",
            "\n"
          ]
        }
      ],
      "source": [
        "import yfinance as yf\n",
        "import pandas as pd\n",
        "import time\n",
        "import datetime\n",
        "import matplotlib.pyplot as plt\n",
        "\n",
        "# === Configuration ===\n",
        "TICKER = \"BSE.NS\"              # Stock symbol\n",
        "INTERVAL = \"5m\"              # 5-minute candles\n",
        "SHORT_WINDOW = 5             # Short-term SMA\n",
        "LONG_WINDOW = 20             # Long-term SMA\n",
        "SLEEP_DURATION = 60 * 5      # Wait 5 minutes between loops\n",
        "\n",
        "# === Fetch Market Data ===\n",
        "def fetch_data(ticker, interval, period=\"2d\"):\n",
        "    data = yf.download(ticker, interval=interval, period=period)\n",
        "    data.dropna(inplace=True)\n",
        "    return data\n",
        "\n",
        "# === Strategy: SMA Crossover ===\n",
        "def apply_strategy(df):\n",
        "    df[\"SMA_Short\"] = df[\"Close\"].rolling(window=SHORT_WINDOW).mean()\n",
        "    df[\"SMA_Long\"] = df[\"Close\"].rolling(window=LONG_WINDOW).mean()\n",
        "\n",
        "    df[\"Signal\"] = (df[\"SMA_Short\"] > df[\"SMA_Long\"]).astype(int)\n",
        "    df[\"Position\"] = df[\"Signal\"].diff().fillna(0)\n",
        "\n",
        "    # Debug: Print last few rows\n",
        "    print(df[[\"Close\", \"SMA_Short\", \"SMA_Long\", \"Signal\", \"Position\"]].tail(10))\n",
        "\n",
        "    return df\n",
        "\n",
        "# === Simulate Trade Execution ===\n",
        "def execute_trade(signal):\n",
        "    if signal == 1:\n",
        "        print(\"💰 BUY Signal Triggered!\")\n",
        "    elif signal == -1:\n",
        "        print(\"❌ SELL Signal Triggered!\")\n",
        "    else:\n",
        "        print(\"🔍 No Trade Signal.\")\n",
        "\n",
        "# === Optional: Plot for Visual Debug ===\n",
        "def plot_chart(df):\n",
        "    df[[\"Close\", \"SMA_Short\", \"SMA_Long\"]].plot(figsize=(12, 6))\n",
        "    plt.title(\"SMA Crossover Strategy\")\n",
        "    plt.show()\n",
        "\n",
        "# === Main Bot Runner ===\n",
        "def run_bot():\n",
        "    print(f\"🚀 Starting Intraday Bot for {TICKER}\")\n",
        "\n",
        "    while True:\n",
        "        try:\n",
        "            now = datetime.datetime.now()\n",
        "\n",
        "            # Stop after market close\n",
        "            if now.time() >= datetime.time(16, 0):\n",
        "                print(\"🔒 Market closed. Stopping bot.\")\n",
        "                break\n",
        "\n",
        "            df = fetch_data(TICKER, INTERVAL)\n",
        "            df = apply_strategy(df)\n",
        "\n",
        "            latest_signal = df[\"Position\"].iloc[-1]\n",
        "            execute_trade(latest_signal)\n",
        "\n",
        "            # Optional: Uncomment to view chart\n",
        "            # plot_chart(df)\n",
        "\n",
        "            print(\"⏳ Waiting for next 5-minute interval...\\n\")\n",
        "            time.sleep(SLEEP_DURATION)\n",
        "\n",
        "        except Exception as e:\n",
        "            print(f\"⚠️ Error: {e}\")\n",
        "            time.sleep(60)\n",
        "\n",
        "# === Run the bot ===\n",
        "if __name__ == \"__main__\":\n",
        "    run_bot()\n"
      ]
    },
    {
      "cell_type": "code",
      "execution_count": null,
      "metadata": {
        "colab": {
          "base_uri": "https://localhost:8080/",
          "height": 738
        },
        "id": "E8zyMSMj64WW",
        "outputId": "2020489e-258f-48b1-9063-801aac9d3a09"
      },
      "outputs": [
        {
          "name": "stderr",
          "output_type": "stream",
          "text": [
            "[nltk_data] Downloading package punkt to /root/nltk_data...\n",
            "[nltk_data]   Unzipping tokenizers/punkt.zip.\n"
          ]
        },
        {
          "ename": "LookupError",
          "evalue": "\n**********************************************************************\n  Resource \u001b[93mpunkt_tab\u001b[0m not found.\n  Please use the NLTK Downloader to obtain the resource:\n\n  \u001b[31m>>> import nltk\n  >>> nltk.download('punkt_tab')\n  \u001b[0m\n  For more information see: https://www.nltk.org/data.html\n\n  Attempted to load \u001b[93mtokenizers/punkt_tab/english/\u001b[0m\n\n  Searched in:\n    - '/root/nltk_data'\n    - '/usr/nltk_data'\n    - '/usr/share/nltk_data'\n    - '/usr/lib/nltk_data'\n    - '/usr/share/nltk_data'\n    - '/usr/local/share/nltk_data'\n    - '/usr/lib/nltk_data'\n    - '/usr/local/lib/nltk_data'\n**********************************************************************\n",
          "output_type": "error",
          "traceback": [
            "\u001b[0;31m---------------------------------------------------------------------------\u001b[0m",
            "\u001b[0;31mLookupError\u001b[0m                               Traceback (most recent call last)",
            "\u001b[0;32m<ipython-input-1-b6fe44cbf516>\u001b[0m in \u001b[0;36m<cell line: 11>\u001b[0;34m()\u001b[0m\n\u001b[1;32m      9\u001b[0m \u001b[0;34m\u001b[0m\u001b[0m\n\u001b[1;32m     10\u001b[0m \u001b[0mtext\u001b[0m \u001b[0;34m=\u001b[0m \u001b[0;34m\"Hello, world! Welcome to NLTK in Google Colab.\"\u001b[0m\u001b[0;34m\u001b[0m\u001b[0;34m\u001b[0m\u001b[0m\n\u001b[0;32m---> 11\u001b[0;31m \u001b[0mtokens\u001b[0m \u001b[0;34m=\u001b[0m \u001b[0mnltk\u001b[0m\u001b[0;34m.\u001b[0m\u001b[0mword_tokenize\u001b[0m\u001b[0;34m(\u001b[0m\u001b[0mtext\u001b[0m\u001b[0;34m)\u001b[0m\u001b[0;34m\u001b[0m\u001b[0;34m\u001b[0m\u001b[0m\n\u001b[0m\u001b[1;32m     12\u001b[0m \u001b[0mprint\u001b[0m\u001b[0;34m(\u001b[0m\u001b[0;34m\"Tokens:\"\u001b[0m\u001b[0;34m,\u001b[0m \u001b[0mtokens\u001b[0m\u001b[0;34m)\u001b[0m\u001b[0;34m\u001b[0m\u001b[0;34m\u001b[0m\u001b[0m\n",
            "\u001b[0;32m/usr/local/lib/python3.10/dist-packages/nltk/tokenize/__init__.py\u001b[0m in \u001b[0;36mword_tokenize\u001b[0;34m(text, language, preserve_line)\u001b[0m\n\u001b[1;32m    140\u001b[0m     \u001b[0;34m:\u001b[0m\u001b[0mtype\u001b[0m \u001b[0mpreserve_line\u001b[0m\u001b[0;34m:\u001b[0m \u001b[0mbool\u001b[0m\u001b[0;34m\u001b[0m\u001b[0;34m\u001b[0m\u001b[0m\n\u001b[1;32m    141\u001b[0m     \"\"\"\n\u001b[0;32m--> 142\u001b[0;31m     \u001b[0msentences\u001b[0m \u001b[0;34m=\u001b[0m \u001b[0;34m[\u001b[0m\u001b[0mtext\u001b[0m\u001b[0;34m]\u001b[0m \u001b[0;32mif\u001b[0m \u001b[0mpreserve_line\u001b[0m \u001b[0;32melse\u001b[0m \u001b[0msent_tokenize\u001b[0m\u001b[0;34m(\u001b[0m\u001b[0mtext\u001b[0m\u001b[0;34m,\u001b[0m \u001b[0mlanguage\u001b[0m\u001b[0;34m)\u001b[0m\u001b[0;34m\u001b[0m\u001b[0;34m\u001b[0m\u001b[0m\n\u001b[0m\u001b[1;32m    143\u001b[0m     return [\n\u001b[1;32m    144\u001b[0m         \u001b[0mtoken\u001b[0m \u001b[0;32mfor\u001b[0m \u001b[0msent\u001b[0m \u001b[0;32min\u001b[0m \u001b[0msentences\u001b[0m \u001b[0;32mfor\u001b[0m \u001b[0mtoken\u001b[0m \u001b[0;32min\u001b[0m \u001b[0m_treebank_word_tokenizer\u001b[0m\u001b[0;34m.\u001b[0m\u001b[0mtokenize\u001b[0m\u001b[0;34m(\u001b[0m\u001b[0msent\u001b[0m\u001b[0;34m)\u001b[0m\u001b[0;34m\u001b[0m\u001b[0;34m\u001b[0m\u001b[0m\n",
            "\u001b[0;32m/usr/local/lib/python3.10/dist-packages/nltk/tokenize/__init__.py\u001b[0m in \u001b[0;36msent_tokenize\u001b[0;34m(text, language)\u001b[0m\n\u001b[1;32m    117\u001b[0m     \u001b[0;34m:\u001b[0m\u001b[0mparam\u001b[0m \u001b[0mlanguage\u001b[0m\u001b[0;34m:\u001b[0m \u001b[0mthe\u001b[0m \u001b[0mmodel\u001b[0m \u001b[0mname\u001b[0m \u001b[0;32min\u001b[0m \u001b[0mthe\u001b[0m \u001b[0mPunkt\u001b[0m \u001b[0mcorpus\u001b[0m\u001b[0;34m\u001b[0m\u001b[0;34m\u001b[0m\u001b[0m\n\u001b[1;32m    118\u001b[0m     \"\"\"\n\u001b[0;32m--> 119\u001b[0;31m     \u001b[0mtokenizer\u001b[0m \u001b[0;34m=\u001b[0m \u001b[0m_get_punkt_tokenizer\u001b[0m\u001b[0;34m(\u001b[0m\u001b[0mlanguage\u001b[0m\u001b[0;34m)\u001b[0m\u001b[0;34m\u001b[0m\u001b[0;34m\u001b[0m\u001b[0m\n\u001b[0m\u001b[1;32m    120\u001b[0m     \u001b[0;32mreturn\u001b[0m \u001b[0mtokenizer\u001b[0m\u001b[0;34m.\u001b[0m\u001b[0mtokenize\u001b[0m\u001b[0;34m(\u001b[0m\u001b[0mtext\u001b[0m\u001b[0;34m)\u001b[0m\u001b[0;34m\u001b[0m\u001b[0;34m\u001b[0m\u001b[0m\n\u001b[1;32m    121\u001b[0m \u001b[0;34m\u001b[0m\u001b[0m\n",
            "\u001b[0;32m/usr/local/lib/python3.10/dist-packages/nltk/tokenize/__init__.py\u001b[0m in \u001b[0;36m_get_punkt_tokenizer\u001b[0;34m(language)\u001b[0m\n\u001b[1;32m    103\u001b[0m     \u001b[0;34m:\u001b[0m\u001b[0mtype\u001b[0m \u001b[0mlanguage\u001b[0m\u001b[0;34m:\u001b[0m \u001b[0mstr\u001b[0m\u001b[0;34m\u001b[0m\u001b[0;34m\u001b[0m\u001b[0m\n\u001b[1;32m    104\u001b[0m     \"\"\"\n\u001b[0;32m--> 105\u001b[0;31m     \u001b[0;32mreturn\u001b[0m \u001b[0mPunktTokenizer\u001b[0m\u001b[0;34m(\u001b[0m\u001b[0mlanguage\u001b[0m\u001b[0;34m)\u001b[0m\u001b[0;34m\u001b[0m\u001b[0;34m\u001b[0m\u001b[0m\n\u001b[0m\u001b[1;32m    106\u001b[0m \u001b[0;34m\u001b[0m\u001b[0m\n\u001b[1;32m    107\u001b[0m \u001b[0;34m\u001b[0m\u001b[0m\n",
            "\u001b[0;32m/usr/local/lib/python3.10/dist-packages/nltk/tokenize/punkt.py\u001b[0m in \u001b[0;36m__init__\u001b[0;34m(self, lang)\u001b[0m\n\u001b[1;32m   1742\u001b[0m     \u001b[0;32mdef\u001b[0m \u001b[0m__init__\u001b[0m\u001b[0;34m(\u001b[0m\u001b[0mself\u001b[0m\u001b[0;34m,\u001b[0m \u001b[0mlang\u001b[0m\u001b[0;34m=\u001b[0m\u001b[0;34m\"english\"\u001b[0m\u001b[0;34m)\u001b[0m\u001b[0;34m:\u001b[0m\u001b[0;34m\u001b[0m\u001b[0;34m\u001b[0m\u001b[0m\n\u001b[1;32m   1743\u001b[0m         \u001b[0mPunktSentenceTokenizer\u001b[0m\u001b[0;34m.\u001b[0m\u001b[0m__init__\u001b[0m\u001b[0;34m(\u001b[0m\u001b[0mself\u001b[0m\u001b[0;34m)\u001b[0m\u001b[0;34m\u001b[0m\u001b[0;34m\u001b[0m\u001b[0m\n\u001b[0;32m-> 1744\u001b[0;31m         \u001b[0mself\u001b[0m\u001b[0;34m.\u001b[0m\u001b[0mload_lang\u001b[0m\u001b[0;34m(\u001b[0m\u001b[0mlang\u001b[0m\u001b[0;34m)\u001b[0m\u001b[0;34m\u001b[0m\u001b[0;34m\u001b[0m\u001b[0m\n\u001b[0m\u001b[1;32m   1745\u001b[0m \u001b[0;34m\u001b[0m\u001b[0m\n\u001b[1;32m   1746\u001b[0m     \u001b[0;32mdef\u001b[0m \u001b[0mload_lang\u001b[0m\u001b[0;34m(\u001b[0m\u001b[0mself\u001b[0m\u001b[0;34m,\u001b[0m \u001b[0mlang\u001b[0m\u001b[0;34m=\u001b[0m\u001b[0;34m\"english\"\u001b[0m\u001b[0;34m)\u001b[0m\u001b[0;34m:\u001b[0m\u001b[0;34m\u001b[0m\u001b[0;34m\u001b[0m\u001b[0m\n",
            "\u001b[0;32m/usr/local/lib/python3.10/dist-packages/nltk/tokenize/punkt.py\u001b[0m in \u001b[0;36mload_lang\u001b[0;34m(self, lang)\u001b[0m\n\u001b[1;32m   1747\u001b[0m         \u001b[0;32mfrom\u001b[0m \u001b[0mnltk\u001b[0m\u001b[0;34m.\u001b[0m\u001b[0mdata\u001b[0m \u001b[0;32mimport\u001b[0m \u001b[0mfind\u001b[0m\u001b[0;34m\u001b[0m\u001b[0;34m\u001b[0m\u001b[0m\n\u001b[1;32m   1748\u001b[0m \u001b[0;34m\u001b[0m\u001b[0m\n\u001b[0;32m-> 1749\u001b[0;31m         \u001b[0mlang_dir\u001b[0m \u001b[0;34m=\u001b[0m \u001b[0mfind\u001b[0m\u001b[0;34m(\u001b[0m\u001b[0;34mf\"tokenizers/punkt_tab/{lang}/\"\u001b[0m\u001b[0;34m)\u001b[0m\u001b[0;34m\u001b[0m\u001b[0;34m\u001b[0m\u001b[0m\n\u001b[0m\u001b[1;32m   1750\u001b[0m         \u001b[0mself\u001b[0m\u001b[0;34m.\u001b[0m\u001b[0m_params\u001b[0m \u001b[0;34m=\u001b[0m \u001b[0mload_punkt_params\u001b[0m\u001b[0;34m(\u001b[0m\u001b[0mlang_dir\u001b[0m\u001b[0;34m)\u001b[0m\u001b[0;34m\u001b[0m\u001b[0;34m\u001b[0m\u001b[0m\n\u001b[1;32m   1751\u001b[0m         \u001b[0mself\u001b[0m\u001b[0;34m.\u001b[0m\u001b[0m_lang\u001b[0m \u001b[0;34m=\u001b[0m \u001b[0mlang\u001b[0m\u001b[0;34m\u001b[0m\u001b[0;34m\u001b[0m\u001b[0m\n",
            "\u001b[0;32m/usr/local/lib/python3.10/dist-packages/nltk/data.py\u001b[0m in \u001b[0;36mfind\u001b[0;34m(resource_name, paths)\u001b[0m\n\u001b[1;32m    577\u001b[0m     \u001b[0msep\u001b[0m \u001b[0;34m=\u001b[0m \u001b[0;34m\"*\"\u001b[0m \u001b[0;34m*\u001b[0m \u001b[0;36m70\u001b[0m\u001b[0;34m\u001b[0m\u001b[0;34m\u001b[0m\u001b[0m\n\u001b[1;32m    578\u001b[0m     \u001b[0mresource_not_found\u001b[0m \u001b[0;34m=\u001b[0m \u001b[0;34mf\"\\n{sep}\\n{msg}\\n{sep}\\n\"\u001b[0m\u001b[0;34m\u001b[0m\u001b[0;34m\u001b[0m\u001b[0m\n\u001b[0;32m--> 579\u001b[0;31m     \u001b[0;32mraise\u001b[0m \u001b[0mLookupError\u001b[0m\u001b[0;34m(\u001b[0m\u001b[0mresource_not_found\u001b[0m\u001b[0;34m)\u001b[0m\u001b[0;34m\u001b[0m\u001b[0;34m\u001b[0m\u001b[0m\n\u001b[0m\u001b[1;32m    580\u001b[0m \u001b[0;34m\u001b[0m\u001b[0m\n\u001b[1;32m    581\u001b[0m \u001b[0;34m\u001b[0m\u001b[0m\n",
            "\u001b[0;31mLookupError\u001b[0m: \n**********************************************************************\n  Resource \u001b[93mpunkt_tab\u001b[0m not found.\n  Please use the NLTK Downloader to obtain the resource:\n\n  \u001b[31m>>> import nltk\n  >>> nltk.download('punkt_tab')\n  \u001b[0m\n  For more information see: https://www.nltk.org/data.html\n\n  Attempted to load \u001b[93mtokenizers/punkt_tab/english/\u001b[0m\n\n  Searched in:\n    - '/root/nltk_data'\n    - '/usr/nltk_data'\n    - '/usr/share/nltk_data'\n    - '/usr/lib/nltk_data'\n    - '/usr/share/nltk_data'\n    - '/usr/local/share/nltk_data'\n    - '/usr/lib/nltk_data'\n    - '/usr/local/lib/nltk_data'\n**********************************************************************\n"
          ]
        }
      ],
      "source": [
        "# prompt: import nltk\n",
        "# nltk.download('punkt')\n",
        "# text=\"Hello, world! Welcome to NLTK in VScode.\"\n",
        "# tokens=nltk.word_tokenize(text)\n",
        "# print(\"Tokens:\",tokens)\n",
        "\n",
        "import nltk\n",
        "nltk.download('punkt')\n",
        "\n",
        "text = \"Hello, world! Welcome to NLTK in Google Colab.\"\n",
        "tokens = nltk.word_tokenize(text)\n",
        "print(\"Tokens:\", tokens)\n"
      ]
    },
    {
      "cell_type": "code",
      "execution_count": null,
      "metadata": {
        "colab": {
          "base_uri": "https://localhost:8080/"
        },
        "id": "cy8dvA1FNnEx",
        "outputId": "29fc12ef-3439-4dfe-a162-b62ee4bff813"
      },
      "outputs": [
        {
          "name": "stderr",
          "output_type": "stream",
          "text": [
            "No model was supplied, defaulted to distilbert/distilbert-base-uncased-finetuned-sst-2-english and revision 714eb0f (https://huggingface.co/distilbert/distilbert-base-uncased-finetuned-sst-2-english).\n",
            "Using a pipeline without specifying a model name and revision in production is not recommended.\n"
          ]
        },
        {
          "name": "stdout",
          "output_type": "stream",
          "text": [
            "[{'label': 'POSITIVE', 'score': 0.9923353791236877}]\n"
          ]
        }
      ],
      "source": [
        "from transformers import pipeline\n",
        "sentiment = pipeline(\"sentiment-analysis\")\n",
        "result=sentiment(\"my name is ramji\")\n",
        "print(result)"
      ]
    },
    {
      "cell_type": "code",
      "execution_count": null,
      "metadata": {
        "colab": {
          "base_uri": "https://localhost:8080/"
        },
        "id": "Y1GRuD-cAHTD",
        "outputId": "f44c3698-c641-45df-f41a-d1c3b75d68a8"
      },
      "outputs": [
        {
          "name": "stderr",
          "output_type": "stream",
          "text": [
            "[nltk_data] Downloading package movie_reviews to /root/nltk_data...\n",
            "[nltk_data]   Package movie_reviews is already up-to-date!\n",
            "[nltk_data] Downloading package punkt to /root/nltk_data...\n",
            "[nltk_data]   Package punkt is already up-to-date!\n",
            "[nltk_data] Downloading package punkt_tab to /root/nltk_data...\n",
            "[nltk_data]   Unzipping tokenizers/punkt_tab.zip.\n"
          ]
        },
        {
          "name": "stdout",
          "output_type": "stream",
          "text": [
            "Accuracy:0.77\n",
            "Review: neg\n",
            "Most Informative Features\n",
            "        contains(poorly) = True              neg : pos    =     14.5 : 1.0\n",
            "          contains(dull) = True              neg : pos    =     11.0 : 1.0\n",
            "     contains(portrayal) = True              pos : neg    =     10.4 : 1.0\n",
            "       contains(unfunny) = True              neg : pos    =      9.6 : 1.0\n",
            "         contains(worst) = True              neg : pos    =      8.4 : 1.0\n"
          ]
        }
      ],
      "source": [
        "  import nltk\n",
        "from nltk.corpus import movie_reviews\n",
        "from nltk.classify import NaiveBayesClassifier\n",
        "from nltk.classify.util import accuracy\n",
        "from nltk.tokenize import word_tokenize\n",
        "import random\n",
        "\n",
        "nltk.download(\"movie_reviews\")\n",
        "nltk.download(\"punkt\")\n",
        "nltk.download('punkt_tab')\n",
        "\n",
        "documents=[(list(movie_reviews.words(fileid)),category)\n",
        "           for category in movie_reviews.categories()\n",
        "           for fileid in movie_reviews.fileids(category)]\n",
        "\n",
        "random.shuffle(documents)\n",
        "all_words = nltk.FreqDist(w.lower() for w in movie_reviews.words())\n",
        "word_features = list(all_words)[:2000]\n",
        "\n",
        "def document_features(document):\n",
        "    document_words = set(document)\n",
        "    features = {}\n",
        "    for word in word_features:\n",
        "        features['contains({})'.format(word)] = (word in document_words)\n",
        "    return features\n",
        "\n",
        "feature_sets = [(document_features(d), c) for (d, c) in documents]\n",
        "train_set, test_set = feature_sets[1600:], feature_sets[:1600]\n",
        "classifier = nltk.NaiveBayesClassifier.train(train_set)\n",
        "\n",
        "print(f\"Accuracy:{accuracy(classifier, test_set):.2f}\")\n",
        "\n",
        "review=\"The movie was absolutely fantastic! Great story and acting.\"\n",
        "tokens=word_tokenize(review)\n",
        "features=document_features(tokens)\n",
        "\n",
        "print(f\"Review: {classifier.classify(features)}\")\n",
        "classifier.show_most_informative_features(5)\n"
      ]
    },
    {
      "cell_type": "code",
      "execution_count": null,
      "metadata": {
        "colab": {
          "base_uri": "https://localhost:8080/",
          "height": 373
        },
        "id": "Gec_6ohiKfp3",
        "outputId": "91625040-8dea-4df0-b69f-f058fbae86ea"
      },
      "outputs": [
        {
          "ename": "FileNotFoundError",
          "evalue": "[Errno 2] No such file or directory: 'C:/Users/santosh sree ramjee/Desktop'",
          "output_type": "error",
          "traceback": [
            "\u001b[0;31m---------------------------------------------------------------------------\u001b[0m",
            "\u001b[0;31mFileNotFoundError\u001b[0m                         Traceback (most recent call last)",
            "\u001b[0;32m<ipython-input-22-c5900365db36>\u001b[0m in \u001b[0;36m<cell line: 46>\u001b[0;34m()\u001b[0m\n\u001b[1;32m     44\u001b[0m \u001b[0;34m\u001b[0m\u001b[0m\n\u001b[1;32m     45\u001b[0m \u001b[0;31m#step 4: Generate a caption for new image\u001b[0m\u001b[0;34m\u001b[0m\u001b[0;34m\u001b[0m\u001b[0m\n\u001b[0;32m---> 46\u001b[0;31m \u001b[0mfeatures\u001b[0m \u001b[0;34m=\u001b[0m \u001b[0mextract_image_features\u001b[0m\u001b[0;34m(\u001b[0m\u001b[0;34mr\"C:/Users/santosh sree ramjee/Desktop\"\u001b[0m\u001b[0;34m)\u001b[0m\u001b[0;34m\u001b[0m\u001b[0;34m\u001b[0m\u001b[0m\n\u001b[0m\u001b[1;32m     47\u001b[0m \u001b[0mmodel\u001b[0m\u001b[0;34m.\u001b[0m\u001b[0mpredict\u001b[0m\u001b[0;34m(\u001b[0m\u001b[0mfeatures\u001b[0m\u001b[0;34m)\u001b[0m\u001b[0;34m\u001b[0m\u001b[0;34m\u001b[0m\u001b[0m\n\u001b[1;32m     48\u001b[0m \u001b[0;34m\u001b[0m\u001b[0m\n",
            "\u001b[0;32m<ipython-input-22-c5900365db36>\u001b[0m in \u001b[0;36mextract_image_features\u001b[0;34m(image_path)\u001b[0m\n\u001b[1;32m     13\u001b[0m     \u001b[0mmodel\u001b[0m\u001b[0;34m=\u001b[0m\u001b[0mInceptionV3\u001b[0m\u001b[0;34m(\u001b[0m\u001b[0mweights\u001b[0m\u001b[0;34m=\u001b[0m\u001b[0;34m'imagenet'\u001b[0m\u001b[0;34m)\u001b[0m\u001b[0;34m\u001b[0m\u001b[0;34m\u001b[0m\u001b[0m\n\u001b[1;32m     14\u001b[0m     \u001b[0mmodel\u001b[0m\u001b[0;34m=\u001b[0m\u001b[0mModel\u001b[0m\u001b[0;34m(\u001b[0m\u001b[0minputs\u001b[0m\u001b[0;34m=\u001b[0m\u001b[0mmodel\u001b[0m\u001b[0;34m.\u001b[0m\u001b[0minput\u001b[0m\u001b[0;34m,\u001b[0m\u001b[0moutputs\u001b[0m\u001b[0;34m=\u001b[0m\u001b[0mmodel\u001b[0m\u001b[0;34m.\u001b[0m\u001b[0mlayers\u001b[0m\u001b[0;34m[\u001b[0m\u001b[0;34m-\u001b[0m\u001b[0;36m2\u001b[0m\u001b[0;34m]\u001b[0m\u001b[0;34m.\u001b[0m\u001b[0moutput\u001b[0m\u001b[0;34m)\u001b[0m\u001b[0;34m\u001b[0m\u001b[0;34m\u001b[0m\u001b[0m\n\u001b[0;32m---> 15\u001b[0;31m     \u001b[0mimg\u001b[0m\u001b[0;34m=\u001b[0m\u001b[0mload_img\u001b[0m\u001b[0;34m(\u001b[0m\u001b[0mimage_path\u001b[0m\u001b[0;34m,\u001b[0m\u001b[0mtarget_size\u001b[0m\u001b[0;34m=\u001b[0m\u001b[0;34m(\u001b[0m\u001b[0;36m299\u001b[0m\u001b[0;34m,\u001b[0m\u001b[0;36m299\u001b[0m\u001b[0;34m)\u001b[0m\u001b[0;34m)\u001b[0m\u001b[0;34m\u001b[0m\u001b[0;34m\u001b[0m\u001b[0m\n\u001b[0m\u001b[1;32m     16\u001b[0m     \u001b[0mimg\u001b[0m\u001b[0;34m=\u001b[0m\u001b[0mimg_to_array\u001b[0m\u001b[0;34m(\u001b[0m\u001b[0mimg\u001b[0m\u001b[0;34m)\u001b[0m\u001b[0;34m\u001b[0m\u001b[0;34m\u001b[0m\u001b[0m\n\u001b[1;32m     17\u001b[0m     \u001b[0mimg\u001b[0m\u001b[0;34m=\u001b[0m\u001b[0mnp\u001b[0m\u001b[0;34m.\u001b[0m\u001b[0mexpand_dims\u001b[0m\u001b[0;34m(\u001b[0m\u001b[0mimg\u001b[0m\u001b[0;34m,\u001b[0m\u001b[0maxis\u001b[0m\u001b[0;34m=\u001b[0m\u001b[0;36m0\u001b[0m\u001b[0;34m)\u001b[0m\u001b[0;34m\u001b[0m\u001b[0;34m\u001b[0m\u001b[0m\n",
            "\u001b[0;32m/usr/local/lib/python3.10/dist-packages/keras/src/utils/image_utils.py\u001b[0m in \u001b[0;36mload_img\u001b[0;34m(path, color_mode, target_size, interpolation, keep_aspect_ratio)\u001b[0m\n\u001b[1;32m    233\u001b[0m         \u001b[0;32mif\u001b[0m \u001b[0misinstance\u001b[0m\u001b[0;34m(\u001b[0m\u001b[0mpath\u001b[0m\u001b[0;34m,\u001b[0m \u001b[0mpathlib\u001b[0m\u001b[0;34m.\u001b[0m\u001b[0mPath\u001b[0m\u001b[0;34m)\u001b[0m\u001b[0;34m:\u001b[0m\u001b[0;34m\u001b[0m\u001b[0;34m\u001b[0m\u001b[0m\n\u001b[1;32m    234\u001b[0m             \u001b[0mpath\u001b[0m \u001b[0;34m=\u001b[0m \u001b[0mstr\u001b[0m\u001b[0;34m(\u001b[0m\u001b[0mpath\u001b[0m\u001b[0;34m.\u001b[0m\u001b[0mresolve\u001b[0m\u001b[0;34m(\u001b[0m\u001b[0;34m)\u001b[0m\u001b[0;34m)\u001b[0m\u001b[0;34m\u001b[0m\u001b[0;34m\u001b[0m\u001b[0m\n\u001b[0;32m--> 235\u001b[0;31m         \u001b[0;32mwith\u001b[0m \u001b[0mopen\u001b[0m\u001b[0;34m(\u001b[0m\u001b[0mpath\u001b[0m\u001b[0;34m,\u001b[0m \u001b[0;34m\"rb\"\u001b[0m\u001b[0;34m)\u001b[0m \u001b[0;32mas\u001b[0m \u001b[0mf\u001b[0m\u001b[0;34m:\u001b[0m\u001b[0;34m\u001b[0m\u001b[0;34m\u001b[0m\u001b[0m\n\u001b[0m\u001b[1;32m    236\u001b[0m             \u001b[0mimg\u001b[0m \u001b[0;34m=\u001b[0m \u001b[0mpil_image\u001b[0m\u001b[0;34m.\u001b[0m\u001b[0mopen\u001b[0m\u001b[0;34m(\u001b[0m\u001b[0mio\u001b[0m\u001b[0;34m.\u001b[0m\u001b[0mBytesIO\u001b[0m\u001b[0;34m(\u001b[0m\u001b[0mf\u001b[0m\u001b[0;34m.\u001b[0m\u001b[0mread\u001b[0m\u001b[0;34m(\u001b[0m\u001b[0;34m)\u001b[0m\u001b[0;34m)\u001b[0m\u001b[0;34m)\u001b[0m\u001b[0;34m\u001b[0m\u001b[0;34m\u001b[0m\u001b[0m\n\u001b[1;32m    237\u001b[0m     \u001b[0;32melse\u001b[0m\u001b[0;34m:\u001b[0m\u001b[0;34m\u001b[0m\u001b[0;34m\u001b[0m\u001b[0m\n",
            "\u001b[0;31mFileNotFoundError\u001b[0m: [Errno 2] No such file or directory: 'C:/Users/santosh sree ramjee/Desktop'"
          ]
        }
      ],
      "source": [
        "import tensorflow as tf\n",
        "from tensorflow.keras.applications import InceptionV3\n",
        "from tensorflow.keras.preprocessing.image import load_img, img_to_array\n",
        "from tensorflow.keras.models import Model\n",
        "from tensorflow.keras.preprocessing.sequence import pad_sequences\n",
        "from tensorflow.keras.preprocessing.text import Tokenizer\n",
        "from tensorflow.keras.models import Sequential\n",
        "from tensorflow.keras.layers import Embedding,LSTM,Dense\n",
        "import numpy as np\n",
        "\n",
        "#step 1: Extract image features\n",
        "def extract_image_features(image_path):\n",
        "    model=InceptionV3(weights='imagenet')\n",
        "    model=Model(inputs=model.input,outputs=model.layers[-2].output)\n",
        "    img=load_img(image_path,target_size=(299,299))\n",
        "    img=img_to_array(img)\n",
        "    img=np.expand_dims(img,axis=0)\n",
        "    img=tf.keras.applications.inception_v3.preprocess_input(img)\n",
        "    features=model.predict(img)\n",
        "    return features\n",
        "\n",
        "\n",
        "# step 2: Tokenize captions(NLP processing)\n",
        "captions=[\"A dog is playing in the garden\",\"A child is running on the grass\"]\n",
        "tokenizer=Tokenizer()\n",
        "tokenizer.fit_on_texts(captions)\n",
        "sequences=tokenizer.texts_to_sequences(captions)\n",
        "padded_sequences=pad_sequences(sequences,padding='post')\n",
        "\n",
        "#Step 3:Integrate image features and NLP model\n",
        "# For simplicity,we'll define a basic RNN model to generate captions\n",
        "\n",
        "vocab_size=len(tokenizer.word_index)+1\n",
        "embedding_dim=50\n",
        "\n",
        "model=Sequential([Embedding(input_dim=vocab_size,output_dim=embedding_dim,mask_zero=True),\n",
        "                  LSTM(128,return_sequences=False),\n",
        "                  Dense(embedding_dim,activation='relu'),\n",
        "                  Dense(vocab_size,activation='softmax')])\n",
        "model.compile(optimizer='adam',loss='sparse_categorical_crossentropy')\n",
        "\n",
        "#Pass image features and train the model on image-caption pairs\n",
        "#Image features (extracted earlier) and caption tokens would be input.\n",
        "\n",
        "#step 4: Generate a caption for new image\n",
        "features = extract_image_features(r\"C:/Users/santosh sree ramjee/Desktop\")\n",
        "model.predict(features)\n",
        "\n",
        "#Ensure proper integration of features and text\n",
        "#Example: Use features as part of the input for generating captions (requires proper dataset and training loop)\n",
        "print(features)\n",
        "\n"
      ]
    },
    {
      "cell_type": "code",
      "execution_count": null,
      "metadata": {
        "colab": {
          "base_uri": "https://localhost:8080/"
        },
        "id": "9AuYgENQq6XR",
        "outputId": "da12ed0a-26c2-4206-e434-2cbbb89f5db5"
      },
      "outputs": [
        {
          "name": "stdout",
          "output_type": "stream",
          "text": [
            "\u001b[1m1/1\u001b[0m \u001b[32m━━━━━━━━━━━━━━━━━━━━\u001b[0m\u001b[37m\u001b[0m \u001b[1m3s\u001b[0m 3s/step\n",
            "\u001b[1m1/1\u001b[0m \u001b[32m━━━━━━━━━━━━━━━━━━━━\u001b[0m\u001b[37m\u001b[0m \u001b[1m2s\u001b[0m 2s/step\n",
            "[[0.59918725 0.329337   0.7441859  ... 0.2986041  1.4781605  0.7433798 ]]\n"
          ]
        }
      ],
      "source": [
        "import tensorflow as tf\n",
        "from tensorflow.keras.applications.inception_v3 import InceptionV3\n",
        "from tensorflow.keras.models import Model, Sequential\n",
        "from tensorflow.keras.layers import Embedding, LSTM, Dense, Input\n",
        "from tensorflow.keras.preprocessing.text import Tokenizer\n",
        "from tensorflow.keras.preprocessing.sequence import pad_sequences\n",
        "from tensorflow.keras.preprocessing.image import load_img, img_to_array\n",
        "import numpy as np\n",
        "\n",
        "# Step 1: Extract image features\n",
        "def extract_image_features(image_path):\n",
        "    base_model = InceptionV3(weights='imagenet')\n",
        "    model = Model(inputs=base_model.input, outputs=base_model.layers[-2].output)\n",
        "    img = load_img(image_path, target_size=(299, 299))\n",
        "    img = img_to_array(img)\n",
        "    img = np.expand_dims(img, axis=0)\n",
        "    img = tf.keras.applications.inception_v3.preprocess_input(img)\n",
        "    features = model.predict(img)\n",
        "    return features\n",
        "\n",
        "# Step 2: Tokenize captions\n",
        "captions = [\"A dog is playing in the garden\", \"A child is running on the ground\"]\n",
        "tokenizer = Tokenizer()\n",
        "tokenizer.fit_on_texts(captions)\n",
        "sequences = tokenizer.texts_to_sequences(captions)\n",
        "padded_sequences = pad_sequences(sequences, padding='post')\n",
        "\n",
        "# Vocabulary size and embedding dimensions\n",
        "vocab_size = len(tokenizer.word_index) + 1\n",
        "embedding_dim = 50\n",
        "\n",
        "# Step 3: Define the RNN model\n",
        "model = Sequential([\n",
        "    Embedding(input_dim=vocab_size, output_dim=embedding_dim, mask_zero=True),\n",
        "    LSTM(250, return_sequences=False),\n",
        "    Dense(256, activation='relu'),\n",
        "    Dense(vocab_size, activation='softmax')\n",
        "])\n",
        "model.compile(optimizer='adam', loss='sparse_categorical_crossentropy')\n",
        "\n",
        "# Step 4: Extract image features\n",
        "features = extract_image_features('OIP.jpeg')\n",
        "model.predict(features)\n",
        "\n",
        "# Ensure proper integration of features and text\n",
        "# Example: Use features as part of the input for generating captions (requires proper dataset and training loop)\n",
        "\n",
        "print(features)  # Ensure features are extracted correctl"
      ]
    },
    {
      "cell_type": "code",
      "execution_count": null,
      "metadata": {
        "colab": {
          "base_uri": "https://localhost:8080/"
        },
        "id": "VubtxAllmNmz",
        "outputId": "24122ac7-35c4-4ff0-c440-a360770e6f5e"
      },
      "outputs": [
        {
          "data": {
            "text/plain": [
              "1.4142135623730951"
            ]
          },
          "execution_count": 10,
          "metadata": {},
          "output_type": "execute_result"
        }
      ],
      "source": [
        "import numpy as np\n",
        "a=[1,2,3,4,5]\n",
        "np.mean(a)\n",
        "np.std(a)\n"
      ]
    },
    {
      "cell_type": "code",
      "execution_count": null,
      "metadata": {
        "colab": {
          "base_uri": "https://localhost:8080/",
          "height": 106
        },
        "id": "YqMKPXhCanuh",
        "outputId": "229bfa67-8e1c-4510-d423-d2d102a3d858"
      },
      "outputs": [
        {
          "ename": "SyntaxError",
          "evalue": "invalid decimal literal (<ipython-input-1-707b3c9fcde8>, line 1)",
          "output_type": "error",
          "traceback": [
            "\u001b[0;36m  File \u001b[0;32m\"<ipython-input-1-707b3c9fcde8>\"\u001b[0;36m, line \u001b[0;32m1\u001b[0m\n\u001b[0;31m    a=1b=2\u001b[0m\n\u001b[0m      ^\u001b[0m\n\u001b[0;31mSyntaxError\u001b[0m\u001b[0;31m:\u001b[0m invalid decimal literal\n"
          ]
        }
      ],
      "source": [
        "a=1\n",
        "b=2\n",
        "c=a+b\n",
        "c\n"
      ]
    },
    {
      "cell_type": "code",
      "execution_count": null,
      "metadata": {
        "colab": {
          "base_uri": "https://localhost:8080/",
          "height": 1000
        },
        "id": "wXzUc9m0nzY8",
        "outputId": "18513c49-12ea-43c7-a716-fbc208d07719"
      },
      "outputs": [
        {
          "name": "stderr",
          "output_type": "stream",
          "text": [
            "\r[*********************100%***********************]  1 of 1 completed\n",
            "/usr/local/lib/python3.11/dist-packages/keras/src/layers/rnn/rnn.py:200: UserWarning: Do not pass an `input_shape`/`input_dim` argument to a layer. When using Sequential models, prefer using an `Input(shape)` object as the first layer in the model instead.\n",
            "  super().__init__(**kwargs)\n"
          ]
        },
        {
          "name": "stdout",
          "output_type": "stream",
          "text": [
            "Epoch 1/20\n",
            "\u001b[1m49/49\u001b[0m \u001b[32m━━━━━━━━━━━━━━━━━━━━\u001b[0m\u001b[37m\u001b[0m \u001b[1m14s\u001b[0m 154ms/step - loss: 6.3383e-04 - val_loss: 0.0028\n",
            "Epoch 2/20\n",
            "\u001b[1m49/49\u001b[0m \u001b[32m━━━━━━━━━━━━━━━━━━━━\u001b[0m\u001b[37m\u001b[0m \u001b[1m5s\u001b[0m 100ms/step - loss: 6.2581e-05 - val_loss: 0.0037\n",
            "Epoch 3/20\n",
            "\u001b[1m49/49\u001b[0m \u001b[32m━━━━━━━━━━━━━━━━━━━━\u001b[0m\u001b[37m\u001b[0m \u001b[1m3s\u001b[0m 61ms/step - loss: 3.9862e-05 - val_loss: 0.0024\n",
            "Epoch 4/20\n",
            "\u001b[1m49/49\u001b[0m \u001b[32m━━━━━━━━━━━━━━━━━━━━\u001b[0m\u001b[37m\u001b[0m \u001b[1m6s\u001b[0m 70ms/step - loss: 2.8322e-05 - val_loss: 0.0029\n",
            "Epoch 5/20\n",
            "\u001b[1m49/49\u001b[0m \u001b[32m━━━━━━━━━━━━━━━━━━━━\u001b[0m\u001b[37m\u001b[0m \u001b[1m3s\u001b[0m 57ms/step - loss: 3.2792e-05 - val_loss: 0.0024\n",
            "Epoch 6/20\n",
            "\u001b[1m49/49\u001b[0m \u001b[32m━━━━━━━━━━━━━━━━━━━━\u001b[0m\u001b[37m\u001b[0m \u001b[1m5s\u001b[0m 57ms/step - loss: 3.2880e-05 - val_loss: 0.0023\n",
            "Epoch 7/20\n",
            "\u001b[1m49/49\u001b[0m \u001b[32m━━━━━━━━━━━━━━━━━━━━\u001b[0m\u001b[37m\u001b[0m \u001b[1m5s\u001b[0m 57ms/step - loss: 2.7441e-05 - val_loss: 0.0021\n",
            "Epoch 8/20\n",
            "\u001b[1m49/49\u001b[0m \u001b[32m━━━━━━━━━━━━━━━━━━━━\u001b[0m\u001b[37m\u001b[0m \u001b[1m5s\u001b[0m 59ms/step - loss: 3.4163e-05 - val_loss: 0.0063\n",
            "Epoch 9/20\n",
            "\u001b[1m49/49\u001b[0m \u001b[32m━━━━━━━━━━━━━━━━━━━━\u001b[0m\u001b[37m\u001b[0m \u001b[1m4s\u001b[0m 81ms/step - loss: 3.1257e-05 - val_loss: 0.0023\n",
            "Epoch 10/20\n",
            "\u001b[1m49/49\u001b[0m \u001b[32m━━━━━━━━━━━━━━━━━━━━\u001b[0m\u001b[37m\u001b[0m \u001b[1m4s\u001b[0m 56ms/step - loss: 2.9258e-05 - val_loss: 0.0032\n",
            "Epoch 11/20\n",
            "\u001b[1m49/49\u001b[0m \u001b[32m━━━━━━━━━━━━━━━━━━━━\u001b[0m\u001b[37m\u001b[0m \u001b[1m3s\u001b[0m 59ms/step - loss: 2.5364e-05 - val_loss: 0.0026\n",
            "Epoch 12/20\n",
            "\u001b[1m49/49\u001b[0m \u001b[32m━━━━━━━━━━━━━━━━━━━━\u001b[0m\u001b[37m\u001b[0m \u001b[1m3s\u001b[0m 64ms/step - loss: 3.4388e-05 - val_loss: 0.0056\n",
            "Epoch 13/20\n",
            "\u001b[1m49/49\u001b[0m \u001b[32m━━━━━━━━━━━━━━━━━━━━\u001b[0m\u001b[37m\u001b[0m \u001b[1m4s\u001b[0m 86ms/step - loss: 3.1736e-05 - val_loss: 0.0031\n",
            "Epoch 14/20\n",
            "\u001b[1m49/49\u001b[0m \u001b[32m━━━━━━━━━━━━━━━━━━━━\u001b[0m\u001b[37m\u001b[0m \u001b[1m5s\u001b[0m 78ms/step - loss: 2.9885e-05 - val_loss: 0.0048\n",
            "Epoch 15/20\n",
            "\u001b[1m49/49\u001b[0m \u001b[32m━━━━━━━━━━━━━━━━━━━━\u001b[0m\u001b[37m\u001b[0m \u001b[1m6s\u001b[0m 121ms/step - loss: 3.3748e-05 - val_loss: 0.0030\n",
            "Epoch 16/20\n",
            "\u001b[1m49/49\u001b[0m \u001b[32m━━━━━━━━━━━━━━━━━━━━\u001b[0m\u001b[37m\u001b[0m \u001b[1m6s\u001b[0m 124ms/step - loss: 2.6248e-05 - val_loss: 0.0021\n",
            "Epoch 17/20\n",
            "\u001b[1m49/49\u001b[0m \u001b[32m━━━━━━━━━━━━━━━━━━━━\u001b[0m\u001b[37m\u001b[0m \u001b[1m10s\u001b[0m 125ms/step - loss: 3.0834e-05 - val_loss: 0.0019\n",
            "Epoch 18/20\n",
            "\u001b[1m49/49\u001b[0m \u001b[32m━━━━━━━━━━━━━━━━━━━━\u001b[0m\u001b[37m\u001b[0m \u001b[1m7s\u001b[0m 57ms/step - loss: 2.9634e-05 - val_loss: 0.0028\n",
            "Epoch 19/20\n",
            "\u001b[1m49/49\u001b[0m \u001b[32m━━━━━━━━━━━━━━━━━━━━\u001b[0m\u001b[37m\u001b[0m \u001b[1m3s\u001b[0m 60ms/step - loss: 2.7771e-05 - val_loss: 0.0055\n",
            "Epoch 20/20\n",
            "\u001b[1m49/49\u001b[0m \u001b[32m━━━━━━━━━━━━━━━━━━━━\u001b[0m\u001b[37m\u001b[0m \u001b[1m5s\u001b[0m 57ms/step - loss: 2.3440e-05 - val_loss: 0.0040\n",
            "\u001b[1m11/11\u001b[0m \u001b[32m━━━━━━━━━━━━━━━━━━━━\u001b[0m\u001b[37m\u001b[0m \u001b[1m1s\u001b[0m 49ms/step\n"
          ]
        },
        {
          "data": {
            "image/png": "[encoded data removed]",
            "text/plain": [
              "<Figure size 1400x500 with 1 Axes>"
            ]
          },
          "metadata": {},
          "output_type": "display_data"
        }
      ],
      "source": [
        "import numpy as np\n",
        "import pandas as pd\n",
        "import matplotlib.pyplot as plt\n",
        "import seaborn as sns\n",
        "from sklearn.preprocessing import MinMaxScaler\n",
        "from tensorflow.keras.models import Sequential\n",
        "from tensorflow.keras.layers import LSTM, Dense, Dropout\n",
        "import yfinance as yf\n",
        "\n",
        "# Step 1: Data Collection\n",
        "def get_stock_data(ticker, start, end):\n",
        "    df = yf.download(ticker, start=start, end=end)\n",
        "    return df\n",
        "\n",
        "# Step 2: Load Data\n",
        "stock_ticker = 'BSE.NS'  # Apple stock\n",
        "start_date = '2015-01-01'\n",
        "end_date = '2025-03-20'\n",
        "data = get_stock_data(stock_ticker, start_date, end_date)\n",
        "\n",
        "# Step 3: Data Preprocessing\n",
        "scaler = MinMaxScaler(feature_range=(0,1))\n",
        "data_scaled = scaler.fit_transform(data[['Close']])\n",
        "\n",
        "train_size = int(len(data_scaled) * 0.8)\n",
        "train_data = data_scaled[:train_size]\n",
        "test_data = data_scaled[train_size:]\n",
        "\n",
        "def create_sequences(data, seq_length):\n",
        "    sequences = []\n",
        "    labels = []\n",
        "    for i in range(len(data) - seq_length):\n",
        "        sequences.append(data[i:i+seq_length])\n",
        "        labels.append(data[i+seq_length])\n",
        "    return np.array(sequences), np.array(labels)\n",
        "\n",
        "seq_length = 60  # Lookback period of 60 days\n",
        "X_train, y_train = create_sequences(train_data, seq_length)\n",
        "X_test, y_test = create_sequences(test_data, seq_length)\n",
        "\n",
        "# Step 4: Build LSTM Model\n",
        "model = Sequential([\n",
        "    LSTM(50, return_sequences=True, input_shape=(seq_length, 1)),\n",
        "    Dropout(0.2),\n",
        "    LSTM(50, return_sequences=False),\n",
        "    Dropout(0.2),\n",
        "    Dense(25),\n",
        "    Dense(1)\n",
        "])\n",
        "\n",
        "model.compile(optimizer='adam', loss='mean_squared_error')\n",
        "\n",
        "# Step 5: Train the Model\n",
        "history = model.fit(X_train, y_train, epochs=20, batch_size=32, validation_data=(X_test, y_test))\n",
        "\n",
        "# Step 6: Evaluate the Model\n",
        "predictions = model.predict(X_test)\n",
        "predictions = scaler.inverse_transform(predictions)\n",
        "y_test_actual = scaler.inverse_transform(y_test.reshape(-1,1))\n",
        "\n",
        "# Step 7: Plot Results\n",
        "plt.figure(figsize=(14,5))\n",
        "plt.plot(y_test_actual, label='Actual Price')\n",
        "plt.plot(predictions, label='Predicted Price')\n",
        "plt.legend()\n",
        "plt.title(f'{stock_ticker} Stock Price Prediction')\n",
        "plt.xlabel('Time')\n",
        "plt.ylabel('Stock Price')\n",
        "plt.show()\n"
      ]
    },
    {
      "cell_type": "code",
      "execution_count": null,
      "metadata": {
        "colab": {
          "base_uri": "https://localhost:8080/"
        },
        "id": "OWnccFDZV-yd",
        "outputId": "902dbdb7-4496-48f7-aa1f-c2d694e7e8c6"
      },
      "outputs": [
        {
          "name": "stdout",
          "output_type": "stream",
          "text": [
            "Collecting ta\n",
            "  Downloading ta-0.11.0.tar.gz (25 kB)\n",
            "  Preparing metadata (setup.py) ... \u001b[?25l\u001b[?25hdone\n",
            "Requirement already satisfied: numpy in /usr/local/lib/python3.11/dist-packages (from ta) (2.0.2)\n",
            "Requirement already satisfied: pandas in /usr/local/lib/python3.11/dist-packages (from ta) (2.2.2)\n",
            "Requirement already satisfied: python-dateutil>=2.8.2 in /usr/local/lib/python3.11/dist-packages (from pandas->ta) (2.8.2)\n",
            "Requirement already satisfied: pytz>=2020.1 in /usr/local/lib/python3.11/dist-packages (from pandas->ta) (2025.2)\n",
            "Requirement already satisfied: tzdata>=2022.7 in /usr/local/lib/python3.11/dist-packages (from pandas->ta) (2025.2)\n",
            "Requirement already satisfied: six>=1.5 in /usr/local/lib/python3.11/dist-packages (from python-dateutil>=2.8.2->pandas->ta) (1.17.0)\n",
            "Building wheels for collected packages: ta\n",
            "  Building wheel for ta (setup.py) ... \u001b[?25l\u001b[?25hdone\n",
            "  Created wheel for ta: filename=ta-0.11.0-py3-none-any.whl size=29412 sha256=98327ad48db67567b14740de515d357c648da6bc7d51b411b661cf287251005d\n",
            "  Stored in directory: /root/.cache/pip/wheels/a1/d7/29/7781cc5eb9a3659d032d7d15bdd0f49d07d2b24fec29f44bc4\n",
            "Successfully built ta\n",
            "Installing collected packages: ta\n",
            "Successfully installed ta-0.11.0\n"
          ]
        }
      ],
      "source": [
        "!pip install ta\n"
      ]
    }
  ],
  "metadata": {
    "colab": {
      "provenance": []
    },
    "kernelspec": {
      "display_name": "Python 3",
      "name": "python3"
    },
    "language_info": {
      "name": "python"
    }
  },
  "nbformat": 4,
  "nbformat_minor": 0
}